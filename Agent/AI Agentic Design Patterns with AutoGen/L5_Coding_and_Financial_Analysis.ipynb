{
 "cells": [
  {
   "cell_type": "markdown",
   "id": "eacbb70c",
   "metadata": {},
   "source": [
    "# Lesson 5: Coding and Financial Analysis"
   ]
  },
  {
   "cell_type": "markdown",
   "id": "babbc472",
   "metadata": {},
   "source": [
    "## Setup"
   ]
  },
  {
   "cell_type": "code",
   "execution_count": 1,
   "id": "b5613ba9-d387-4b7d-9670-ec2b6e4353be",
   "metadata": {
    "height": 30
   },
   "outputs": [],
   "source": [
    "llm_config = {\"model\": \"gpt-4-turbo\"}"
   ]
  },
  {
   "cell_type": "markdown",
   "id": "e4e8fd85",
   "metadata": {},
   "source": [
    "## Define a code executor"
   ]
  },
  {
   "cell_type": "code",
   "execution_count": 2,
   "id": "fb90a672-4318-47de-a061-384e68dd75c9",
   "metadata": {
    "height": 30
   },
   "outputs": [],
   "source": [
    "from autogen.coding import LocalCommandLineCodeExecutor"
   ]
  },
  {
   "cell_type": "code",
   "execution_count": 3,
   "id": "b5cafee7-a0ac-4583-8201-5e19eb603138",
   "metadata": {
    "height": 81
   },
   "outputs": [],
   "source": [
    "executor = LocalCommandLineCodeExecutor(\n",
    "    timeout=60,\n",
    "    work_dir=\"coding\",\n",
    ")"
   ]
  },
  {
   "cell_type": "markdown",
   "id": "3b62a1a0",
   "metadata": {},
   "source": [
    "## Create agents "
   ]
  },
  {
   "cell_type": "code",
   "execution_count": 4,
   "id": "e6d9b3d6-9915-4fea-a853-512dfb77c4a5",
   "metadata": {
    "height": 30
   },
   "outputs": [],
   "source": [
    "from autogen import ConversableAgent, AssistantAgent"
   ]
  },
  {
   "cell_type": "markdown",
   "id": "b741b947",
   "metadata": {},
   "source": [
    "### 1. Agent with code executor configuration"
   ]
  },
  {
   "cell_type": "code",
   "execution_count": 5,
   "id": "57d286e5-b7b7-405a-b1d7-212c0cc84497",
   "metadata": {
    "height": 149
   },
   "outputs": [],
   "source": [
    "code_executor_agent = ConversableAgent(\n",
    "    name=\"code_executor_agent\",\n",
    "    llm_config=False,\n",
    "    code_execution_config={\"executor\": executor},\n",
    "    human_input_mode=\"ALWAYS\",\n",
    "    default_auto_reply=\n",
    "    \"Please continue. If everything is done, reply 'TERMINATE'.\",\n",
    ")"
   ]
  },
  {
   "cell_type": "markdown",
   "id": "c1eb1094",
   "metadata": {},
   "source": [
    "### 2. Agent with code writing capability"
   ]
  },
  {
   "cell_type": "code",
   "execution_count": 6,
   "id": "99c38c33-d335-48cd-96eb-cafe9ac70142",
   "metadata": {
    "height": 115
   },
   "outputs": [],
   "source": [
    "code_writer_agent = AssistantAgent(\n",
    "    name=\"code_writer_agent\",\n",
    "    llm_config=llm_config,\n",
    "    code_execution_config=False,\n",
    "    human_input_mode=\"NEVER\",\n",
    ")"
   ]
  },
  {
   "cell_type": "code",
   "execution_count": 7,
   "id": "0fb1a62f-8dd2-4636-9103-b26ea27a29bd",
   "metadata": {
    "height": 30
   },
   "outputs": [],
   "source": [
    "code_writer_agent_system_message = code_writer_agent.system_message"
   ]
  },
  {
   "cell_type": "code",
   "execution_count": 8,
   "id": "7c8e9a04-55fb-4124-a9d0-3431274476d2",
   "metadata": {
    "height": 30
   },
   "outputs": [
    {
     "name": "stdout",
     "output_type": "stream",
     "text": [
      "You are a helpful AI assistant.\n",
      "Solve tasks using your coding and language skills.\n",
      "In the following cases, suggest python code (in a python coding block) or shell script (in a sh coding block) for the user to execute.\n",
      "    1. When you need to collect info, use the code to output the info you need, for example, browse or search the web, download/read a file, print the content of a webpage or a file, get the current date/time, check the operating system. After sufficient info is printed and the task is ready to be solved based on your language skill, you can solve the task by yourself.\n",
      "    2. When you need to perform some task with code, use the code to perform the task and output the result. Finish the task smartly.\n",
      "Solve the task step by step if you need to. If a plan is not provided, explain your plan first. Be clear which step uses code, and which step uses your language skill.\n",
      "When using code, you must indicate the script type in the code block. The user cannot provide any other feedback or perform any other action beyond executing the code you suggest. The user can't modify your code. So do not suggest incomplete code which requires users to modify. Don't use a code block if it's not intended to be executed by the user.\n",
      "If you want the user to save the code in a file before executing it, put # filename: <filename> inside the code block as the first line. Don't include multiple code blocks in one response. Do not ask users to copy and paste the result. Instead, use 'print' function for the output when relevant. Check the execution result returned by the user.\n",
      "If the result indicates there is an error, fix the error and output the code again. Suggest the full code instead of partial code or code changes. If the error can't be fixed or if the task is not solved even after the code is executed successfully, analyze the problem, revisit your assumption, collect additional info you need, and think of a different approach to try.\n",
      "When you find an answer, verify the answer carefully. Include verifiable evidence in your response if possible.\n",
      "Reply \"TERMINATE\" in the end when everything is done.\n",
      "    \n"
     ]
    }
   ],
   "source": [
    "print(code_writer_agent_system_message)"
   ]
  },
  {
   "cell_type": "markdown",
   "id": "f487b75a",
   "metadata": {},
   "source": [
    "## The task!\n",
    "\n",
    "Ask the two agents to collaborate on a stock analysis task."
   ]
  },
  {
   "cell_type": "code",
   "execution_count": 9,
   "id": "9cce0ba4-9fea-4d36-b4a0-a1e51fcd09a6",
   "metadata": {
    "height": 132
   },
   "outputs": [],
   "source": [
    "import datetime\n",
    "\n",
    "today = datetime.datetime.now().date()\n",
    "message = f\"Today is {today}. \"\\\n",
    "\"Create a plot showing stock gain YTD (%) for NVDA and TLSA. \"\\\n",
    "\"Make sure the code is in markdown code block and save the figure\"\\\n",
    "\" to a file ytd_stock_gains.png.\"\"\""
   ]
  },
  {
   "cell_type": "markdown",
   "id": "4d02df6c",
   "metadata": {},
   "source": [
    "<p style=\"background-color:#ECECEC; padding:15px; \"> <b>Note:</b> In this lesson, you will use GPT 4 for better results. Please note that the lesson has a quota limit. If you want to explore the code in this lesson further, we recommend trying it locally with your own API key."
   ]
  },
  {
   "cell_type": "markdown",
   "id": "77fc5f1b",
   "metadata": {},
   "source": [
    "**Note**: You might see a different set of outputs than those shown in the video. The agents collaborate to generate the code needed for your task, and they might produce code with errors in the process. However, they will ultimately provide a correct code in the end."
   ]
  },
  {
   "cell_type": "code",
   "execution_count": 10,
   "id": "230bb9c0-9c80-498f-a05f-96cef11ddb4e",
   "metadata": {
    "height": 81
   },
   "outputs": [
    {
     "name": "stdout",
     "output_type": "stream",
     "text": [
      "\u001b[33mcode_executor_agent\u001b[0m (to code_writer_agent):\n",
      "\n",
      "Today is 2024-10-07. Create a plot showing stock gain YTD (%) for NVDA and TLSA. Make sure the code is in markdown code block and save the figure to a file ytd_stock_gains.png.\n",
      "\n",
      "--------------------------------------------------------------------------------\n",
      "\u001b[33mcode_writer_agent\u001b[0m (to code_executor_agent):\n",
      "\n",
      "First, we need to retrieve the closing share price data for NVIDIA (NVDA) and Tesla (TSLA) on the last trading day of the previous year (2023) and today.\n",
      "\n",
      "We can use the `yfinance` library to fetch this data, which will then allow us to calculate the year-to-date (YTD) gain as a percentage for each stock. Following that, we'll plot the results using `matplotlib` and save the plot to a file. \n",
      "\n",
      "Here is the code to perform all these tasks:\n",
      "\n",
      "```python\n",
      "# filename: ytd_stock_gain_plot.py\n",
      "import yfinance as yf\n",
      "import matplotlib.pyplot as plt\n",
      "\n",
      "# Fetch data for NVDA and TSLA\n",
      "stocks = ['NVDA', 'TSLA']\n",
      "data = yf.download(stocks, start=\"2023-12-29\", end=\"2024-10-08\")\n",
      "\n",
      "# Calculate the YTD percentage gain\n",
      "initial_prices = data['Close'].iloc[0]\n",
      "current_prices = data['Close'].iloc[-1]\n",
      "ytd_gains = ((current_prices - initial_prices) / initial_prices) * 100\n",
      "\n",
      "# Create a bar plot\n",
      "plt.figure(figsize=(10, 6))\n",
      "ytd_gains.plot(kind='bar', color=['blue', 'green'])\n",
      "plt.title('YTD Stock Gains (%) as of 2024-10-07')\n",
      "plt.ylabel('Percentage Gain')\n",
      "plt.grid(True)\n",
      "\n",
      "# Save the plot to a file\n",
      "plt.savefig('ytd_stock_gains.png')\n",
      "\n",
      "# Making sure to show plot in a script (not necessary for file saving)\n",
      "plt.show()\n",
      "```\n",
      "\n",
      "This script downloads the needed stock data, computes the YTD gains for both Nvidia and Tesla, and plots the results in a bar chart. Finally, it saves the chart to `ytd_stock_gains.png`. Please run this script on your local machine to generate the plot and create the image file.\n",
      "\n",
      "--------------------------------------------------------------------------------\n",
      "Provide feedback to code_writer_agent. Press enter to skip and use auto-reply, or type 'exit' to end the conversation: \n",
      "\u001b[31m\n",
      ">>>>>>>> NO HUMAN INPUT RECEIVED.\u001b[0m\n",
      "\u001b[31m\n",
      ">>>>>>>> USING AUTO REPLY...\u001b[0m\n",
      "\u001b[31m\n",
      ">>>>>>>> EXECUTING CODE BLOCK (inferred language is python)...\u001b[0m\n",
      "\u001b[33mcode_executor_agent\u001b[0m (to code_writer_agent):\n",
      "\n",
      "exitcode: 0 (execution succeeded)\n",
      "Code output: \n",
      "[                       0%%                      ]\n",
      "[*********************100%%**********************]  2 of 2 completed\n",
      "Figure(1000x600)\n",
      "\n",
      "\n",
      "--------------------------------------------------------------------------------\n",
      "\u001b[33mcode_writer_agent\u001b[0m (to code_executor_agent):\n",
      "\n",
      "It appears that the script executed successfully and created the plot as expected. The plot was visualized, and the file `ytd_stock_gains.png` should have been saved to your local directory. \n",
      "\n",
      "You can check the directory where you ran the script to find the `ytd_stock_gains.png` file to see the visual representation of the Year-To-Date gains for NVIDIA and Tesla stocks.\n",
      "\n",
      "If everything looks good, this completes our task.\n",
      "\n",
      "TERMINATE\n",
      "\n",
      "--------------------------------------------------------------------------------\n",
      "Provide feedback to code_writer_agent. Press enter to skip and use auto-reply, or type 'exit' to end the conversation: exit\n"
     ]
    }
   ],
   "source": [
    "chat_result = code_executor_agent.initiate_chat(\n",
    "    code_writer_agent,\n",
    "    message=message,\n",
    ")"
   ]
  },
  {
   "cell_type": "markdown",
   "id": "9b0cbbdd",
   "metadata": {},
   "source": [
    "## Let's see the plot!\n",
    "\n",
    "**Note**: \n",
    "* Your plot might differ from the one shown in the video because the LLM's freestyle code generation could choose a different plot type, such as a bar plot. \n",
    "* You can re-run the previous cell and check the generated code. If it produces a bar plot, remember you can directly specify your preference by asking for a specific plot type instead of a bar plot."
   ]
  },
  {
   "cell_type": "code",
   "execution_count": 11,
   "id": "26804313-566f-42fb-9243-4e0c147f770b",
   "metadata": {
    "height": 81
   },
   "outputs": [
    {
     "data": {
      "image/png": "[encoded data removed]",
      "text/plain": [
       "<IPython.core.display.Image object>"
      ]
     },
     "execution_count": 11,
     "metadata": {},
     "output_type": "execute_result"
    }
   ],
   "source": [
    "import os\n",
    "from IPython.display import Image\n",
    "\n",
    "Image(os.path.join(\"coding\", \"ytd_stock_gains.png\"))"
   ]
  },
  {
   "cell_type": "markdown",
   "id": "ccf49d7e",
   "metadata": {},
   "source": [
    "**Note**: The agent will automatically save the code in a .py file and the plot in a .png file. To access and check the files generated by the agents, go to the `File` menu and select `Open....` Then, open the folder named `coding` to find all the generated files."
   ]
  },
  {
   "cell_type": "markdown",
   "id": "5aded8dc",
   "metadata": {},
   "source": [
    "## User-Defined Functions\n",
    "\n",
    "Instead of asking LLM to generate the code for downloading stock data \n",
    "and plotting charts each time, you can define functions for these two tasks and have LLM call these functions in the code."
   ]
  },
  {
   "cell_type": "code",
   "execution_count": 12,
   "id": "bca089a7-d85a-40ad-b33d-6a5318076c6e",
   "metadata": {
    "height": 387
   },
   "outputs": [],
   "source": [
    "def get_stock_prices(stock_symbols, start_date, end_date):\n",
    "    \"\"\"Get the stock prices for the given stock symbols between\n",
    "    the start and end dates.\n",
    "\n",
    "    Args:\n",
    "        stock_symbols (str or list): The stock symbols to get the\n",
    "        prices for.\n",
    "        start_date (str): The start date in the format \n",
    "        'YYYY-MM-DD'.\n",
    "        end_date (str): The end date in the format 'YYYY-MM-DD'.\n",
    "    \n",
    "    Returns:\n",
    "        pandas.DataFrame: The stock prices for the given stock\n",
    "        symbols indexed by date, with one column per stock \n",
    "        symbol.\n",
    "    \"\"\"\n",
    "    import yfinance\n",
    "\n",
    "    stock_data = yfinance.download(\n",
    "        stock_symbols, start=start_date, end=end_date\n",
    "    )\n",
    "    return stock_data.get(\"Close\")"
   ]
  },
  {
   "cell_type": "code",
   "execution_count": 13,
   "id": "5dff50a6-39ae-46a4-9b9c-e98c1550472b",
   "metadata": {
    "height": 336
   },
   "outputs": [],
   "source": [
    "def plot_stock_prices(stock_prices, filename):\n",
    "    \"\"\"Plot the stock prices for the given stock symbols.\n",
    "\n",
    "    Args:\n",
    "        stock_prices (pandas.DataFrame): The stock prices for the \n",
    "        given stock symbols.\n",
    "    \"\"\"\n",
    "    import matplotlib.pyplot as plt\n",
    "\n",
    "    plt.figure(figsize=(10, 5))\n",
    "    for column in stock_prices.columns:\n",
    "        plt.plot(\n",
    "            stock_prices.index, stock_prices[column], label=column\n",
    "                )\n",
    "    plt.title(\"Stock Prices\")\n",
    "    plt.xlabel(\"Date\")\n",
    "    plt.ylabel(\"Price\")\n",
    "    plt.grid(True)\n",
    "    plt.savefig(filename)"
   ]
  },
  {
   "cell_type": "markdown",
   "id": "63ff7175",
   "metadata": {},
   "source": [
    "### Create a new executor with the user-defined functions"
   ]
  },
  {
   "cell_type": "code",
   "execution_count": 14,
   "id": "452d315f-681d-4418-9cd0-653cc8d6a668",
   "metadata": {
    "height": 98
   },
   "outputs": [],
   "source": [
    "executor = LocalCommandLineCodeExecutor(\n",
    "    timeout=60,\n",
    "    work_dir=\"coding\",\n",
    "    functions=[get_stock_prices, plot_stock_prices],\n",
    ")"
   ]
  },
  {
   "cell_type": "code",
   "execution_count": 15,
   "id": "b95b30ad-1e6d-4d88-9a6c-2b0f11b625e4",
   "metadata": {
    "height": 47
   },
   "outputs": [
    {
     "name": "stdout",
     "output_type": "stream",
     "text": [
      "You are a helpful AI assistant.\n",
      "Solve tasks using your coding and language skills.\n",
      "In the following cases, suggest python code (in a python coding block) or shell script (in a sh coding block) for the user to execute.\n",
      "    1. When you need to collect info, use the code to output the info you need, for example, browse or search the web, download/read a file, print the content of a webpage or a file, get the current date/time, check the operating system. After sufficient info is printed and the task is ready to be solved based on your language skill, you can solve the task by yourself.\n",
      "    2. When you need to perform some task with code, use the code to perform the task and output the result. Finish the task smartly.\n",
      "Solve the task step by step if you need to. If a plan is not provided, explain your plan first. Be clear which step uses code, and which step uses your language skill.\n",
      "When using code, you must indicate the script type in the code block. The user cannot provide any other feedback or perform any other action beyond executing the code you suggest. The user can't modify your code. So do not suggest incomplete code which requires users to modify. Don't use a code block if it's not intended to be executed by the user.\n",
      "If you want the user to save the code in a file before executing it, put # filename: <filename> inside the code block as the first line. Don't include multiple code blocks in one response. Do not ask users to copy and paste the result. Instead, use 'print' function for the output when relevant. Check the execution result returned by the user.\n",
      "If the result indicates there is an error, fix the error and output the code again. Suggest the full code instead of partial code or code changes. If the error can't be fixed or if the task is not solved even after the code is executed successfully, analyze the problem, revisit your assumption, collect additional info you need, and think of a different approach to try.\n",
      "When you find an answer, verify the answer carefully. Include verifiable evidence in your response if possible.\n",
      "Reply \"TERMINATE\" in the end when everything is done.\n",
      "    You have access to the following user defined functions. They can be accessed from the module called `functions` by their function names.\n",
      "\n",
      "For example, if there was a function called `foo` you could import it by writing `from functions import foo`\n",
      "\n",
      "def get_stock_prices(stock_symbols, start_date, end_date):\n",
      "    \"\"\"Get the stock prices for the given stock symbols between\n",
      "        the start and end dates.\n",
      "\n",
      "        Args:\n",
      "            stock_symbols (str or list): The stock symbols to get the\n",
      "            prices for.\n",
      "            start_date (str): The start date in the format \n",
      "            'YYYY-MM-DD'.\n",
      "            end_date (str): The end date in the format 'YYYY-MM-DD'.\n",
      "\n",
      "        Returns:\n",
      "            pandas.DataFrame: The stock prices for the given stock\n",
      "            symbols indexed by date, with one column per stock \n",
      "            symbol.\n",
      "    \"\"\"\n",
      "    ...\n",
      "\n",
      "def plot_stock_prices(stock_prices, filename):\n",
      "    \"\"\"Plot the stock prices for the given stock symbols.\n",
      "\n",
      "        Args:\n",
      "            stock_prices (pandas.DataFrame): The stock prices for the \n",
      "            given stock symbols.\n",
      "    \"\"\"\n",
      "    ...\n"
     ]
    }
   ],
   "source": [
    "code_writer_agent_system_message += executor.format_functions_for_prompt()\n",
    "print(code_writer_agent_system_message)"
   ]
  },
  {
   "cell_type": "markdown",
   "id": "64d3cc77",
   "metadata": {},
   "source": [
    "### Let's update the agents with the new system message"
   ]
  },
  {
   "cell_type": "code",
   "execution_count": 16,
   "id": "615c02b0-0175-442e-bed2-52bb35b8945c",
   "metadata": {
    "height": 132
   },
   "outputs": [],
   "source": [
    "code_writer_agent = ConversableAgent(\n",
    "    name=\"code_writer_agent\",\n",
    "    system_message=code_writer_agent_system_message,\n",
    "    llm_config=llm_config,\n",
    "    code_execution_config=False,\n",
    "    human_input_mode=\"NEVER\",\n",
    ")"
   ]
  },
  {
   "cell_type": "code",
   "execution_count": 17,
   "id": "a9a725b0-9bb6-47e3-85df-27d9aadc9290",
   "metadata": {
    "height": 149
   },
   "outputs": [],
   "source": [
    "code_executor_agent = ConversableAgent(\n",
    "    name=\"code_executor_agent\",\n",
    "    llm_config=False,\n",
    "    code_execution_config={\"executor\": executor},\n",
    "    human_input_mode=\"ALWAYS\",\n",
    "    default_auto_reply=\n",
    "    \"Please continue. If everything is done, reply 'TERMINATE'.\",\n",
    ")"
   ]
  },
  {
   "cell_type": "markdown",
   "id": "e8d7b57c",
   "metadata": {},
   "source": [
    "### Start the same task again!"
   ]
  },
  {
   "cell_type": "code",
   "execution_count": 18,
   "id": "8895bb51-bcdd-4f63-a49f-858fc25c474f",
   "metadata": {
    "height": 132
   },
   "outputs": [
    {
     "name": "stdout",
     "output_type": "stream",
     "text": [
      "\u001b[33mcode_executor_agent\u001b[0m (to code_writer_agent):\n",
      "\n",
      "Today is 2024-10-07.Download the stock prices YTD for NVDA and TSLA and createa plot. Make sure the code is in markdown code block and save the figure to a file stock_prices_YTD_plot.png.\n",
      "\n",
      "--------------------------------------------------------------------------------\n",
      "\u001b[33mcode_writer_agent\u001b[0m (to code_executor_agent):\n",
      "\n",
      "To achieve this, the plan is:\n",
      "\n",
      "1. Calculate the start of the year for YTD (Year-to-date), which is the first day of the current year.\n",
      "2. Make use of the function `get_stock_prices` to fetch the stock prices for \"NVDA\" and \"TSLA\" from the start of this year up to today's date.\n",
      "3. Then, use the `plot_stock_prices` function to plot these stock prices and save the plot to a file named \"stock_prices_YTD_plot.png\".\n",
      "\n",
      "Here is the python code to execute this:\n",
      "\n",
      "```python\n",
      "# filename: stock_price_download_and_plot.py\n",
      "from functions import get_stock_prices, plot_stock_prices\n",
      "import pandas as pd\n",
      "\n",
      "# Define the stock symbols and the date range\n",
      "stock_symbols = ['NVDA', 'TSLA']\n",
      "start_date = '2024-01-01'\n",
      "end_date = '2024-10-07'\n",
      "\n",
      "# Get stock prices\n",
      "stock_prices = get_stock_prices(stock_symbols, start_date, end_date)\n",
      "\n",
      "# Plot stock prices and save to a file\n",
      "plot_stock_prices(stock_prices, 'stock_prices_YTD_plot.png')\n",
      "print(\"Stock prices retrieved and plot saved as stock_prices_YTD_plot.png.\")\n",
      "```\n",
      "\n",
      "Execute this script to retrieve the stock prices and generate the plot.\n",
      "TERMINATE\n",
      "\n",
      "--------------------------------------------------------------------------------\n",
      "Provide feedback to code_writer_agent. Press enter to skip and use auto-reply, or type 'exit' to end the conversation: \n",
      "\u001b[31m\n",
      ">>>>>>>> NO HUMAN INPUT RECEIVED.\u001b[0m\n",
      "\u001b[31m\n",
      ">>>>>>>> USING AUTO REPLY...\u001b[0m\n",
      "\u001b[31m\n",
      ">>>>>>>> EXECUTING CODE BLOCK (inferred language is python)...\u001b[0m\n",
      "\u001b[33mcode_executor_agent\u001b[0m (to code_writer_agent):\n",
      "\n",
      "exitcode: 0 (execution succeeded)\n",
      "Code output: \n",
      "[                       0%%                      ]\n",
      "[*********************100%%**********************]  2 of 2 completed\n",
      "Stock prices retrieved and plot saved as stock_prices_YTD_plot.png.\n",
      "\n",
      "\n",
      "--------------------------------------------------------------------------------\n",
      "\u001b[33mcode_writer_agent\u001b[0m (to code_executor_agent):\n",
      "\n",
      "Great! The script executed successfully and the stock prices were retrieved and plotted. The plot has been saved as \"stock_prices_YTD_plot.png\".\n",
      "\n",
      "If you have any more tasks or need further assistance, feel free to ask. Otherwise, that completes the task.\n",
      "\n",
      "TERMINATE\n",
      "\n",
      "--------------------------------------------------------------------------------\n",
      "Provide feedback to code_writer_agent. Press enter to skip and use auto-reply, or type 'exit' to end the conversation: exit\n"
     ]
    }
   ],
   "source": [
    "chat_result = code_executor_agent.initiate_chat(\n",
    "    code_writer_agent,\n",
    "    message=f\"Today is {today}.\"\n",
    "    \"Download the stock prices YTD for NVDA and TSLA and create\"\n",
    "    \"a plot. Make sure the code is in markdown code block and \"\n",
    "    \"save the figure to a file stock_prices_YTD_plot.png.\",\n",
    ")"
   ]
  },
  {
   "cell_type": "markdown",
   "id": "3c4bb718",
   "metadata": {},
   "source": [
    "### Plot the results"
   ]
  },
  {
   "cell_type": "code",
   "execution_count": 19,
   "id": "a930c007-dd56-4da6-b542-902312ed27dd",
   "metadata": {
    "height": 30
   },
   "outputs": [
    {
     "data": {
      "image/png": "[encoded data removed]",
      "text/plain": [
       "<IPython.core.display.Image object>"
      ]
     },
     "execution_count": 19,
     "metadata": {},
     "output_type": "execute_result"
    }
   ],
   "source": [
    "Image(os.path.join(\"coding\", \"stock_prices_YTD_plot.png\"))"
   ]
  },
  {
   "cell_type": "markdown",
   "id": "c65bac5e",
   "metadata": {},
   "source": [
    "**Note**: The agent will automatically save the code in a .py file and the plot in a .png file. To access and check the files generated by the agents, go to the `File` menu and select `Open....` Then, open the folder named `coding` to find all the generated files."
   ]
  }
 ],
 "metadata": {
  "kernelspec": {
   "display_name": "Python 3 (ipykernel)",
   "language": "python",
   "name": "python3"
  },
  "language_info": {
   "codemirror_mode": {
    "name": "ipython",
    "version": 3
   },
   "file_extension": ".py",
   "mimetype": "text/x-python",
   "name": "python",
   "nbconvert_exporter": "python",
   "pygments_lexer": "ipython3",
   "version": "3.11.9"
  }
 },
 "nbformat": 4,
 "nbformat_minor": 5
}
