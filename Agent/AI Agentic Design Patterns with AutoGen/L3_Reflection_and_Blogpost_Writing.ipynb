{
 "cells": [
  {
   "cell_type": "markdown",
   "id": "fc3024e2",
   "metadata": {},
   "source": [
    "# Lesson 3: Reflection and Blogpost Writing"
   ]
  },
  {
   "cell_type": "markdown",
   "id": "3b0cc42f",
   "metadata": {},
   "source": [
    "## Setup"
   ]
  },
  {
   "cell_type": "code",
   "execution_count": 1,
   "id": "96d39be0-eaf3-456d-8613-ba21099ed36b",
   "metadata": {
    "height": 30
   },
   "outputs": [],
   "source": [
    "llm_config = {\"model\": \"gpt-3.5-turbo\"}"
   ]
  },
  {
   "cell_type": "markdown",
   "id": "0969e6bb",
   "metadata": {},
   "source": [
    "## The task!"
   ]
  },
  {
   "cell_type": "code",
   "execution_count": 2,
   "id": "e8074032-3690-4de9-ad08-ea8323cb441b",
   "metadata": {
    "height": 115
   },
   "outputs": [],
   "source": [
    "task = '''\n",
    "        Write a concise but engaging blogpost about\n",
    "       DeepLearning.AI. Make sure the blogpost is\n",
    "       within 100 words.\n",
    "       '''\n"
   ]
  },
  {
   "cell_type": "markdown",
   "id": "1987f023",
   "metadata": {},
   "source": [
    "## Create a writer agent"
   ]
  },
  {
   "cell_type": "code",
   "execution_count": 3,
   "id": "fe0f0a47-a9fe-43a0-b7b1-79922e4c4ac8",
   "metadata": {
    "height": 183
   },
   "outputs": [],
   "source": [
    "import autogen\n",
    "\n",
    "writer = autogen.AssistantAgent(\n",
    "    name=\"Writer\",\n",
    "    system_message=\"You are a writer. You write engaging and concise \" \n",
    "        \"blogpost (with title) on given topics. You must polish your \"\n",
    "        \"writing based on the feedback you receive and give a refined \"\n",
    "        \"version. Only return your final work without additional comments.\",\n",
    "    llm_config=llm_config,\n",
    ")"
   ]
  },
  {
   "cell_type": "code",
   "execution_count": 4,
   "id": "7c7b4d8d-40f7-4a05-8958-25d20054de3a",
   "metadata": {
    "height": 30
   },
   "outputs": [],
   "source": [
    "reply = writer.generate_reply(messages=[{\"content\": task, \"role\": \"user\"}])"
   ]
  },
  {
   "cell_type": "code",
   "execution_count": 5,
   "id": "c501c97d-e338-4f36-a384-6ec45983cf77",
   "metadata": {
    "height": 30
   },
   "outputs": [
    {
     "name": "stdout",
     "output_type": "stream",
     "text": [
      "Title: \"Unleashing a New Era of AI With DeepLearning.AI\"\n",
      "\n",
      "Discover the powerhouse behind cutting-edge AI innovation: DeepLearning.AI. Founded by the world-renowned AI expert, Andrew Ng, this platform provides top-notch AI education to aspirants worldwide. Offering specialized courses in deep learning, machine learning, and AI, DeepLearning.AI equips learners with the skills needed to thrive in the AI industry. With a user-friendly interface and interactive learning experiences, this platform is revolutionizing the way people engage with AI education. Embrace the future of technology and dive into the world of artificial intelligence with DeepLearning.AI.\n"
     ]
    }
   ],
   "source": [
    "print(reply)"
   ]
  },
  {
   "cell_type": "markdown",
   "id": "49658114",
   "metadata": {},
   "source": [
    "## Adding reflection \n",
    "\n",
    "Create a critic agent to reflect on the work of the writer agent."
   ]
  },
  {
   "cell_type": "code",
   "execution_count": 6,
   "id": "c7fcd1c7-51ec-4915-8e97-bac03565c4c7",
   "metadata": {
    "height": 149
   },
   "outputs": [],
   "source": [
    "critic = autogen.AssistantAgent(\n",
    "    name=\"Critic\",\n",
    "    is_termination_msg=lambda x: x.get(\"content\", \"\").find(\"TERMINATE\") >= 0,\n",
    "    llm_config=llm_config,\n",
    "    system_message=\"You are a critic. You review the work of \"\n",
    "                \"the writer and provide constructive \"\n",
    "                \"feedback to help improve the quality of the content.\",\n",
    ")"
   ]
  },
  {
   "cell_type": "code",
   "execution_count": 7,
   "id": "899d5fdb-6081-470b-b287-8cf8b8142d0d",
   "metadata": {
    "height": 115
   },
   "outputs": [
    {
     "name": "stdout",
     "output_type": "stream",
     "text": [
      "\u001b[33mCritic\u001b[0m (to Writer):\n",
      "\n",
      "\n",
      "        Write a concise but engaging blogpost about\n",
      "       DeepLearning.AI. Make sure the blogpost is\n",
      "       within 100 words.\n",
      "       \n",
      "\n",
      "--------------------------------------------------------------------------------\n",
      "\u001b[33mWriter\u001b[0m (to Critic):\n",
      "\n",
      "Title: \"Unleashing a New Era of AI With DeepLearning.AI\"\n",
      "\n",
      "Discover the powerhouse behind cutting-edge AI innovation: DeepLearning.AI. Founded by the world-renowned AI expert, Andrew Ng, this platform provides top-notch AI education to aspirants worldwide. Offering specialized courses in deep learning, machine learning, and AI, DeepLearning.AI equips learners with the skills needed to thrive in the AI industry. With a user-friendly interface and interactive learning experiences, this platform is revolutionizing the way people engage with AI education. Embrace the future of technology and dive into the world of artificial intelligence with DeepLearning.AI.\n",
      "\n",
      "--------------------------------------------------------------------------------\n",
      "\u001b[33mCritic\u001b[0m (to Writer):\n",
      "\n",
      "Your blogpost is concise and engaging, providing a quick glimpse into the world of DeepLearning.AI. You effectively highlight the key aspects of the platform, such as its founder, offerings, and user experience. To enhance the blogpost further, consider adding specific examples of success stories or testimonials from satisfied users to showcase the platform's impact. Additionally, including some statistics or data on the reach or effectiveness of DeepLearning.AI could provide credibility and depth to your content. Overall, great job in capturing the essence of DeepLearning.AI in a concise manner.\n",
      "\n",
      "--------------------------------------------------------------------------------\n",
      "\u001b[33mWriter\u001b[0m (to Critic):\n",
      "\n",
      "Title: \"Empowering Minds, Transforming Futures: DeepLearning.AI Unleashed\"\n",
      "\n",
      "Journey into the realm of AI with DeepLearning.AI, crafted by the legendary Andrew Ng. This educational gem unlocks the complexities of deep learning, machine learning, and AI, propelling learners into the tech forefront. Seamlessly designed for optimal engagement, the platform revolutionizes AI education globally. Explore how individuals, like Jane mastering neural networks or John advancing robotics, have flourished with DeepLearning.AI. With a reach spanning enthusiasts to professionals, the impact resonates. Join the league of AI trailblazers shaping tomorrow's innovations with DeepLearning.AI.\n",
      "\n",
      "--------------------------------------------------------------------------------\n"
     ]
    }
   ],
   "source": [
    "res = critic.initiate_chat(\n",
    "    recipient=writer,\n",
    "    message=task,\n",
    "    max_turns=2,\n",
    "    summary_method=\"last_msg\"\n",
    ")"
   ]
  },
  {
   "cell_type": "markdown",
   "id": "e7b76449",
   "metadata": {},
   "source": [
    "## Nested chat"
   ]
  },
  {
   "cell_type": "code",
   "execution_count": 8,
   "id": "401ecf92-63e9-40ff-aeed-1c404352e4ab",
   "metadata": {
    "height": 200
   },
   "outputs": [],
   "source": [
    "SEO_reviewer = autogen.AssistantAgent(\n",
    "    name=\"SEO Reviewer\",\n",
    "    llm_config=llm_config,\n",
    "    system_message=\"You are an SEO reviewer, known for \"\n",
    "        \"your ability to optimize content for search engines, \"\n",
    "        \"ensuring that it ranks well and attracts organic traffic. \" \n",
    "        \"Make sure your suggestion is concise (within 3 bullet points), \"\n",
    "        \"concrete and to the point. \"\n",
    "        \"Begin the review by stating your role.\",\n",
    ")\n"
   ]
  },
  {
   "cell_type": "code",
   "execution_count": 9,
   "id": "f85acb81-7ab9-4c84-b8bb-6fbae3dce848",
   "metadata": {
    "height": 183
   },
   "outputs": [],
   "source": [
    "legal_reviewer = autogen.AssistantAgent(\n",
    "    name=\"Legal Reviewer\",\n",
    "    llm_config=llm_config,\n",
    "    system_message=\"You are a legal reviewer, known for \"\n",
    "        \"your ability to ensure that content is legally compliant \"\n",
    "        \"and free from any potential legal issues. \"\n",
    "        \"Make sure your suggestion is concise (within 3 bullet points), \"\n",
    "        \"concrete and to the point. \"\n",
    "        \"Begin the review by stating your role.\",\n",
    ")"
   ]
  },
  {
   "cell_type": "code",
   "execution_count": 10,
   "id": "d46a177a-8088-4956-8d2b-3e916b8ca5e9",
   "metadata": {
    "height": 183
   },
   "outputs": [],
   "source": [
    "ethics_reviewer = autogen.AssistantAgent(\n",
    "    name=\"Ethics Reviewer\",\n",
    "    llm_config=llm_config,\n",
    "    system_message=\"You are an ethics reviewer, known for \"\n",
    "        \"your ability to ensure that content is ethically sound \"\n",
    "        \"and free from any potential ethical issues. \" \n",
    "        \"Make sure your suggestion is concise (within 3 bullet points), \"\n",
    "        \"concrete and to the point. \"\n",
    "        \"Begin the review by stating your role. \",\n",
    ")"
   ]
  },
  {
   "cell_type": "code",
   "execution_count": 11,
   "id": "a7b2ad6f-8ba6-436a-9459-14ffbe8a32d3",
   "metadata": {
    "height": 115
   },
   "outputs": [],
   "source": [
    "meta_reviewer = autogen.AssistantAgent(\n",
    "    name=\"Meta Reviewer\",\n",
    "    llm_config=llm_config,\n",
    "    system_message=\"You are a meta reviewer, you aggragate and review \"\n",
    "    \"the work of other reviewers and give a final suggestion on the content.\",\n",
    ")"
   ]
  },
  {
   "cell_type": "markdown",
   "id": "913beca1",
   "metadata": {},
   "source": [
    "## Orchestrate the nested chats to solve the task"
   ]
  },
  {
   "cell_type": "code",
   "execution_count": 12,
   "id": "a11a70c7-19ca-4e5a-ad3d-f2b481fb5915",
   "metadata": {
    "height": 540
   },
   "outputs": [],
   "source": [
    "def reflection_message(recipient, messages, sender, config):\n",
    "    return f'''Review the following content. \n",
    "            \\n\\n {recipient.chat_messages_for_summary(sender)[-1]['content']}'''\n",
    "\n",
    "review_chats = [\n",
    "    {\n",
    "     \"recipient\": SEO_reviewer, \n",
    "     \"message\": reflection_message, \n",
    "     \"summary_method\": \"reflection_with_llm\",\n",
    "     \"summary_args\": {\"summary_prompt\" : \n",
    "        \"Return review into as JSON object only:\"\n",
    "        \"{'Reviewer': '', 'Review': ''}. Here Reviewer should be your role\",},\n",
    "     \"max_turns\": 1},\n",
    "    {\n",
    "    \"recipient\": legal_reviewer, \"message\": reflection_message, \n",
    "     \"summary_method\": \"reflection_with_llm\",\n",
    "     \"summary_args\": {\"summary_prompt\" : \n",
    "        \"Return review into as JSON object only:\"\n",
    "        \"{'Reviewer': '', 'Review': ''}.\",},\n",
    "     \"max_turns\": 1},\n",
    "    {\"recipient\": ethics_reviewer, \"message\": reflection_message, \n",
    "     \"summary_method\": \"reflection_with_llm\",\n",
    "     \"summary_args\": {\"summary_prompt\" : \n",
    "        \"Return review into as JSON object only:\"\n",
    "        \"{'reviewer': '', 'review': ''}\",},\n",
    "     \"max_turns\": 1},\n",
    "     {\"recipient\": meta_reviewer, \n",
    "      \"message\": \"Aggregrate feedback from all reviewers and give final suggestions on the writing.\", \n",
    "     \"max_turns\": 1},\n",
    "]\n"
   ]
  },
  {
   "cell_type": "code",
   "execution_count": 13,
   "id": "b3a40b66-5061-460d-ad9d-c0dbcfbba2e9",
   "metadata": {
    "height": 81
   },
   "outputs": [],
   "source": [
    "critic.register_nested_chats(\n",
    "    review_chats,\n",
    "    trigger=writer,\n",
    ")"
   ]
  },
  {
   "cell_type": "markdown",
   "id": "43b8797d",
   "metadata": {},
   "source": [
    "**Note**: You might get a slightly different response than what's shown in the video. Feel free to try different task."
   ]
  },
  {
   "cell_type": "code",
   "execution_count": 14,
   "id": "3b8dcac3-1e72-43b7-9d5a-1be740f6efd5",
   "metadata": {
    "height": 115
   },
   "outputs": [
    {
     "name": "stdout",
     "output_type": "stream",
     "text": [
      "\u001b[33mCritic\u001b[0m (to Writer):\n",
      "\n",
      "\n",
      "        Write a concise but engaging blogpost about\n",
      "       DeepLearning.AI. Make sure the blogpost is\n",
      "       within 100 words.\n",
      "       \n",
      "\n",
      "--------------------------------------------------------------------------------\n",
      "\u001b[33mWriter\u001b[0m (to Critic):\n",
      "\n",
      "Title: \"Unleashing a New Era of AI With DeepLearning.AI\"\n",
      "\n",
      "Discover the powerhouse behind cutting-edge AI innovation: DeepLearning.AI. Founded by the world-renowned AI expert, Andrew Ng, this platform provides top-notch AI education to aspirants worldwide. Offering specialized courses in deep learning, machine learning, and AI, DeepLearning.AI equips learners with the skills needed to thrive in the AI industry. With a user-friendly interface and interactive learning experiences, this platform is revolutionizing the way people engage with AI education. Embrace the future of technology and dive into the world of artificial intelligence with DeepLearning.AI.\n",
      "\n",
      "--------------------------------------------------------------------------------\n",
      "\u001b[34m\n",
      "********************************************************************************\u001b[0m\n",
      "\u001b[34mStarting a new chat....\u001b[0m\n",
      "\u001b[34m\n",
      "********************************************************************************\u001b[0m\n",
      "\u001b[33mCritic\u001b[0m (to SEO Reviewer):\n",
      "\n",
      "Review the following content. \n",
      "            \n",
      "\n",
      " Title: \"Unleashing a New Era of AI With DeepLearning.AI\"\n",
      "\n",
      "Discover the powerhouse behind cutting-edge AI innovation: DeepLearning.AI. Founded by the world-renowned AI expert, Andrew Ng, this platform provides top-notch AI education to aspirants worldwide. Offering specialized courses in deep learning, machine learning, and AI, DeepLearning.AI equips learners with the skills needed to thrive in the AI industry. With a user-friendly interface and interactive learning experiences, this platform is revolutionizing the way people engage with AI education. Embrace the future of technology and dive into the world of artificial intelligence with DeepLearning.AI.\n",
      "\n",
      "--------------------------------------------------------------------------------\n",
      "\u001b[33mSEO Reviewer\u001b[0m (to Critic):\n",
      "\n",
      "As an SEO reviewer: \n",
      "\n",
      "1. Consider incorporating relevant keywords like \"AI education,\" \"deep learning courses,\" and \"Andrew Ng\" to increase search engine visibility.\n",
      "2. Include meta title and description tags with targeted keywords to improve click-through rates in search results.\n",
      "3. Add internal links to other related content on the website for enhanced SEO and user engagement.\n",
      "\n",
      "--------------------------------------------------------------------------------\n",
      "\u001b[34m\n",
      "********************************************************************************\u001b[0m\n",
      "\u001b[34mStarting a new chat....\u001b[0m\n",
      "\u001b[34m\n",
      "********************************************************************************\u001b[0m\n",
      "\u001b[33mCritic\u001b[0m (to Legal Reviewer):\n",
      "\n",
      "Review the following content. \n",
      "            \n",
      "\n",
      " Title: \"Unleashing a New Era of AI With DeepLearning.AI\"\n",
      "\n",
      "Discover the powerhouse behind cutting-edge AI innovation: DeepLearning.AI. Founded by the world-renowned AI expert, Andrew Ng, this platform provides top-notch AI education to aspirants worldwide. Offering specialized courses in deep learning, machine learning, and AI, DeepLearning.AI equips learners with the skills needed to thrive in the AI industry. With a user-friendly interface and interactive learning experiences, this platform is revolutionizing the way people engage with AI education. Embrace the future of technology and dive into the world of artificial intelligence with DeepLearning.AI.\n",
      "Context: \n",
      "{'Reviewer': 'SEO Reviewer', 'Review': 'Consider incorporating relevant keywords like \"AI education,\" \"deep learning courses,\" and \"Andrew Ng\" to increase search engine visibility. Include meta title and description tags with targeted keywords to improve click-through rates in search results. Add internal links to other related content on the website for enhanced SEO and user engagement.'}\n",
      "\n",
      "--------------------------------------------------------------------------------\n",
      "\u001b[33mLegal Reviewer\u001b[0m (to Critic):\n",
      "\n",
      "As a Legal Reviewer,\n",
      "\n",
      "- Ensure compliance with intellectual property rights by verifying the use of any trademarks, logos, or copyrighted materials associated with DeepLearning.AI and Andrew Ng.\n",
      "- Verify the accuracy of any claims made regarding the effectiveness or outcomes of the AI education provided by DeepLearning.AI to avoid potential misrepresentation.\n",
      "- Review for any false advertising or misleading statements that may exaggerate the benefits of the platform to maintain legal transparency and protect consumers.\n",
      "\n",
      "--------------------------------------------------------------------------------\n",
      "\u001b[34m\n",
      "********************************************************************************\u001b[0m\n",
      "\u001b[34mStarting a new chat....\u001b[0m\n",
      "\u001b[34m\n",
      "********************************************************************************\u001b[0m\n",
      "\u001b[33mCritic\u001b[0m (to Ethics Reviewer):\n",
      "\n",
      "Review the following content. \n",
      "            \n",
      "\n",
      " Title: \"Unleashing a New Era of AI With DeepLearning.AI\"\n",
      "\n",
      "Discover the powerhouse behind cutting-edge AI innovation: DeepLearning.AI. Founded by the world-renowned AI expert, Andrew Ng, this platform provides top-notch AI education to aspirants worldwide. Offering specialized courses in deep learning, machine learning, and AI, DeepLearning.AI equips learners with the skills needed to thrive in the AI industry. With a user-friendly interface and interactive learning experiences, this platform is revolutionizing the way people engage with AI education. Embrace the future of technology and dive into the world of artificial intelligence with DeepLearning.AI.\n",
      "Context: \n",
      "{'Reviewer': 'SEO Reviewer', 'Review': 'Consider incorporating relevant keywords like \"AI education,\" \"deep learning courses,\" and \"Andrew Ng\" to increase search engine visibility. Include meta title and description tags with targeted keywords to improve click-through rates in search results. Add internal links to other related content on the website for enhanced SEO and user engagement.'}\n",
      "{'Reviewer': 'Legal Reviewer', 'Review': 'Ensure compliance with intellectual property rights. Verify accuracy of claims. Review for false advertising or misleading statements.'}\n",
      "\n",
      "--------------------------------------------------------------------------------\n",
      "\u001b[33mEthics Reviewer\u001b[0m (to Critic):\n",
      "\n",
      "As an Ethics Reviewer, it is important to ensure that the content aligns with ethical standards:\n",
      "  \n",
      "1. Maintain transparency about any potential biases or financial relationships with DeepLearning.AI, disclosing any conflicts of interest that may influence the promotion of the platform.\n",
      "   \n",
      "2. Review the content for any exaggerated claims about the effectiveness or outcomes of the AI courses offered by DeepLearning.AI, ensuring accuracy and truthfulness in all statements made.\n",
      "\n",
      "3. Avoid using language that could create unrealistic expectations or pressures on individuals to pursue AI education, promoting a balanced and realistic view of the opportunities and challenges in the AI industry.\n",
      "\n",
      "--------------------------------------------------------------------------------\n",
      "\u001b[34m\n",
      "********************************************************************************\u001b[0m\n",
      "\u001b[34mStarting a new chat....\u001b[0m\n",
      "\u001b[34m\n",
      "********************************************************************************\u001b[0m\n",
      "\u001b[33mCritic\u001b[0m (to Meta Reviewer):\n",
      "\n",
      "Aggregrate feedback from all reviewers and give final suggestions on the writing.\n",
      "Context: \n",
      "{'Reviewer': 'SEO Reviewer', 'Review': 'Consider incorporating relevant keywords like \"AI education,\" \"deep learning courses,\" and \"Andrew Ng\" to increase search engine visibility. Include meta title and description tags with targeted keywords to improve click-through rates in search results. Add internal links to other related content on the website for enhanced SEO and user engagement.'}\n",
      "{'Reviewer': 'Legal Reviewer', 'Review': 'Ensure compliance with intellectual property rights. Verify accuracy of claims. Review for false advertising or misleading statements.'}\n",
      "{\n",
      "  \"reviewer\": \"Ethics Reviewer\",\n",
      "  \"review\": \"1. Maintain transparency about any potential biases or financial relationships with DeepLearning.AI, disclosing any conflicts of interest that may influence the promotion of the platform. 2. Review the content for any exaggerated claims about the effectiveness or outcomes of the AI courses offered by DeepLearning.AI, ensuring accuracy and truthfulness in all statements made. 3. Avoid using language that could create unrealistic expectations or pressures on individuals to pursue AI education, promoting a balanced and realistic view of the opportunities and challenges in the AI industry.\"\n",
      "}\n"
     ]
    },
    {
     "name": "stdout",
     "output_type": "stream",
     "text": [
      "\n",
      "--------------------------------------------------------------------------------\n",
      "\u001b[33mMeta Reviewer\u001b[0m (to Critic):\n",
      "\n",
      "Aggregated feedback from all reviewers:\n",
      "\n",
      "1. SEO Reviewer:\n",
      "- Incorporate relevant keywords like \"AI education,\" \"deep learning courses,\" and \"Andrew Ng\" to improve search engine visibility.\n",
      "- Include meta title and description tags with targeted keywords for better click-through rates.\n",
      "- Add internal links to related content for enhanced SEO and user engagement.\n",
      "\n",
      "2. Legal Reviewer:\n",
      "- Ensure compliance with intellectual property rights.\n",
      "- Verify accuracy of claims.\n",
      "- Review for false advertising or misleading statements.\n",
      "\n",
      "3. Ethics Reviewer:\n",
      "- Maintain transparency regarding any biases or financial relationships with DeepLearning.AI.\n",
      "- Disclose conflicts of interest that may affect the promotion of the platform.\n",
      "- Review content for exaggerated claims about the effectiveness of AI courses.\n",
      "- Avoid creating unrealistic expectations or pressures related to AI education.\n",
      "\n",
      "Final suggestion on the writing:\n",
      "To address the feedback provided by the reviewers, it's important to revise the content by incorporating relevant keywords for SEO purposes, ensuring compliance with legal requirements, and maintaining ethical standards by disclosing any potential biases or conflicts of interest. Additionally, focus on accuracy in claims and avoid exaggerated or misleading statements about AI education. Promote a balanced and realistic perspective on the opportunities and challenges in the AI industry to provide valuable and trustworthy information to readers.\n",
      "\n",
      "--------------------------------------------------------------------------------\n",
      "\u001b[33mCritic\u001b[0m (to Writer):\n",
      "\n",
      "Aggregated feedback from all reviewers:\n",
      "\n",
      "1. SEO Reviewer:\n",
      "- Incorporate relevant keywords like \"AI education,\" \"deep learning courses,\" and \"Andrew Ng\" to improve search engine visibility.\n",
      "- Include meta title and description tags with targeted keywords for better click-through rates.\n",
      "- Add internal links to related content for enhanced SEO and user engagement.\n",
      "\n",
      "2. Legal Reviewer:\n",
      "- Ensure compliance with intellectual property rights.\n",
      "- Verify accuracy of claims.\n",
      "- Review for false advertising or misleading statements.\n",
      "\n",
      "3. Ethics Reviewer:\n",
      "- Maintain transparency regarding any biases or financial relationships with DeepLearning.AI.\n",
      "- Disclose conflicts of interest that may affect the promotion of the platform.\n",
      "- Review content for exaggerated claims about the effectiveness of AI courses.\n",
      "- Avoid creating unrealistic expectations or pressures related to AI education.\n",
      "\n",
      "Final suggestion on the writing:\n",
      "To address the feedback provided by the reviewers, it's important to revise the content by incorporating relevant keywords for SEO purposes, ensuring compliance with legal requirements, and maintaining ethical standards by disclosing any potential biases or conflicts of interest. Additionally, focus on accuracy in claims and avoid exaggerated or misleading statements about AI education. Promote a balanced and realistic perspective on the opportunities and challenges in the AI industry to provide valuable and trustworthy information to readers.\n",
      "\n",
      "--------------------------------------------------------------------------------\n",
      "\u001b[33mWriter\u001b[0m (to Critic):\n",
      "\n",
      "Title: \"Empowering Minds: Exploring the World of DeepLearning.AI\"\n",
      "\n",
      "Delve into the realm of AI education with DeepLearning.AI, spearheaded by the eminent AI guru, Andrew Ng. Unleashing a treasure trove of deep learning courses, this platform equips learners worldwide with the prowess to excel in the AI domain. Navigate through interactive modules and user-friendly interfaces designed to revolutionize your AI learning experience. From machine learning to artificial intelligence, DeepLearning.AI offers a gateway to the future of technology. Embrace this transformative journey and unravel the endless possibilities that AI education has to offer.\n",
      "\n",
      "--------------------------------------------------------------------------------\n"
     ]
    }
   ],
   "source": [
    "res = critic.initiate_chat(\n",
    "    recipient=writer,\n",
    "    message=task,\n",
    "    max_turns=2,\n",
    "    summary_method=\"last_msg\"\n",
    ")"
   ]
  },
  {
   "cell_type": "markdown",
   "id": "c5c833b0",
   "metadata": {},
   "source": [
    "## Get the summary"
   ]
  },
  {
   "cell_type": "code",
   "execution_count": 15,
   "id": "68ef82ed-f102-4964-b7be-60e2f258a39b",
   "metadata": {
    "height": 30
   },
   "outputs": [
    {
     "name": "stdout",
     "output_type": "stream",
     "text": [
      "Title: \"Empowering Minds: Exploring the World of DeepLearning.AI\"\n",
      "\n",
      "Delve into the realm of AI education with DeepLearning.AI, spearheaded by the eminent AI guru, Andrew Ng. Unleashing a treasure trove of deep learning courses, this platform equips learners worldwide with the prowess to excel in the AI domain. Navigate through interactive modules and user-friendly interfaces designed to revolutionize your AI learning experience. From machine learning to artificial intelligence, DeepLearning.AI offers a gateway to the future of technology. Embrace this transformative journey and unravel the endless possibilities that AI education has to offer.\n"
     ]
    }
   ],
   "source": [
    "print(res.summary)"
   ]
  }
 ],
 "metadata": {
  "kernelspec": {
   "display_name": "Python 3 (ipykernel)",
   "language": "python",
   "name": "python3"
  },
  "language_info": {
   "codemirror_mode": {
    "name": "ipython",
    "version": 3
   },
   "file_extension": ".py",
   "mimetype": "text/x-python",
   "name": "python",
   "nbconvert_exporter": "python",
   "pygments_lexer": "ipython3",
   "version": "3.11.9"
  }
 },
 "nbformat": 4,
 "nbformat_minor": 5
}
