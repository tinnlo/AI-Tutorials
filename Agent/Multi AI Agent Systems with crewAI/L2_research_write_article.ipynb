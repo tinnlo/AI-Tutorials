{
 "cells": [
  {
   "cell_type": "markdown",
   "metadata": {},
   "source": [
    "You can download the `requirements.txt` for this course from the workspace of this lab. `File --> Open...`"
   ]
  },
  {
   "cell_type": "markdown",
   "metadata": {},
   "source": [
    "# L2: Create Agents to Research and Write an Article\n",
    "\n",
    "In this lesson, you will be introduced to the foundational concepts of multi-agent systems and get an overview of the crewAI framework."
   ]
  },
  {
   "cell_type": "markdown",
   "metadata": {},
   "source": [
    "The libraries are already installed in the classroom. If you're running this notebook on your own machine, you can install the following:\n",
    "```Python\n",
    "!pip install crewai==0.28.8 crewai_tools==0.1.6 langchain_community==0.0.29\n",
    "```"
   ]
  },
  {
   "cell_type": "code",
   "execution_count": 1,
   "metadata": {
    "height": 64
   },
   "outputs": [],
   "source": [
    "# Warning control\n",
    "import warnings\n",
    "warnings.filterwarnings('ignore')"
   ]
  },
  {
   "cell_type": "markdown",
   "metadata": {},
   "source": [
    "- Import from the crewAI libray."
   ]
  },
  {
   "cell_type": "code",
   "execution_count": 2,
   "metadata": {
    "height": 30
   },
   "outputs": [],
   "source": [
    "from crewai import Agent, Task, Crew"
   ]
  },
  {
   "cell_type": "markdown",
   "metadata": {},
   "source": [
    "- As a LLM for your agents, you'll be using OpenAI's `gpt-3.5-turbo`.\n",
    "\n",
    "**Optional Note:** crewAI also allow other popular models to be used as a LLM for your Agents. You can see some of the examples at the [bottom of the notebook](#1)."
   ]
  },
  {
   "cell_type": "code",
   "execution_count": 3,
   "metadata": {
    "height": 98
   },
   "outputs": [],
   "source": [
    "import os\n",
    "from utils import get_openai_api_key\n",
    "\n",
    "openai_api_key = get_openai_api_key()\n",
    "os.environ[\"OPENAI_MODEL_NAME\"] = 'gpt-3.5-turbo'"
   ]
  },
  {
   "cell_type": "markdown",
   "metadata": {},
   "source": [
    "## Creating Agents\n",
    "\n",
    "- Define your Agents, and provide them a `role`, `goal` and `backstory`.\n",
    "- It has been seen that LLMs perform better when they are role playing."
   ]
  },
  {
   "cell_type": "markdown",
   "metadata": {},
   "source": [
    "### Agent: Planner\n",
    "\n",
    "**Note**: The benefit of using _multiple strings_ :\n",
    "```Python\n",
    "varname = \"line 1 of text\"\n",
    "          \"line 2 of text\"\n",
    "```\n",
    "\n",
    "versus the _triple quote docstring_:\n",
    "```Python\n",
    "varname = \"\"\"line 1 of text\n",
    "             line 2 of text\n",
    "          \"\"\"\n",
    "```\n",
    "is that it can avoid adding those whitespaces and newline characters, making it better formatted to be passed to the LLM."
   ]
  },
  {
   "cell_type": "code",
   "execution_count": 4,
   "metadata": {
    "height": 234
   },
   "outputs": [],
   "source": [
    "planner = Agent(\n",
    "    role=\"Content Planner\",\n",
    "    goal=\"Plan engaging and factually accurate content on {topic}\",\n",
    "    backstory=\"You're working on planning a blog article \"\n",
    "              \"about the topic: {topic}.\"\n",
    "              \"You collect information that helps the \"\n",
    "              \"audience learn something \"\n",
    "              \"and make informed decisions. \"\n",
    "              \"Your work is the basis for \"\n",
    "              \"the Content Writer to write an article on this topic.\",\n",
    "    allow_delegation=False,\n",
    "\tverbose=True\n",
    ")"
   ]
  },
  {
   "cell_type": "markdown",
   "metadata": {},
   "source": [
    "### Agent: Writer"
   ]
  },
  {
   "cell_type": "code",
   "execution_count": 5,
   "metadata": {
    "height": 370
   },
   "outputs": [],
   "source": [
    "writer = Agent(\n",
    "    role=\"Content Writer\",\n",
    "    goal=\"Write insightful and factually accurate \"\n",
    "         \"opinion piece about the topic: {topic}\",\n",
    "    backstory=\"You're working on a writing \"\n",
    "              \"a new opinion piece about the topic: {topic}. \"\n",
    "              \"You base your writing on the work of \"\n",
    "              \"the Content Planner, who provides an outline \"\n",
    "              \"and relevant context about the topic. \"\n",
    "              \"You follow the main objectives and \"\n",
    "              \"direction of the outline, \"\n",
    "              \"as provide by the Content Planner. \"\n",
    "              \"You also provide objective and impartial insights \"\n",
    "              \"and back them up with information \"\n",
    "              \"provide by the Content Planner. \"\n",
    "              \"You acknowledge in your opinion piece \"\n",
    "              \"when your statements are opinions \"\n",
    "              \"as opposed to objective statements.\",\n",
    "    allow_delegation=False,\n",
    "    verbose=True\n",
    ")"
   ]
  },
  {
   "cell_type": "markdown",
   "metadata": {},
   "source": [
    "### Agent: Editor"
   ]
  },
  {
   "cell_type": "code",
   "execution_count": 6,
   "metadata": {
    "height": 268
   },
   "outputs": [],
   "source": [
    "editor = Agent(\n",
    "    role=\"Editor\",\n",
    "    goal=\"Edit a given blog post to align with \"\n",
    "         \"the writing style of the organization. \",\n",
    "    backstory=\"You are an editor who receives a blog post \"\n",
    "              \"from the Content Writer. \"\n",
    "              \"Your goal is to review the blog post \"\n",
    "              \"to ensure that it follows journalistic best practices,\"\n",
    "              \"provides balanced viewpoints \"\n",
    "              \"when providing opinions or assertions, \"\n",
    "              \"and also avoids major controversial topics \"\n",
    "              \"or opinions when possible.\",\n",
    "    allow_delegation=False,\n",
    "    verbose=True\n",
    ")"
   ]
  },
  {
   "cell_type": "markdown",
   "metadata": {},
   "source": [
    "## Creating Tasks\n",
    "\n",
    "- Define your Tasks, and provide them a `description`, `expected_output` and `agent`."
   ]
  },
  {
   "cell_type": "markdown",
   "metadata": {},
   "source": [
    "### Task: Plan"
   ]
  },
  {
   "cell_type": "code",
   "execution_count": 7,
   "metadata": {
    "height": 268
   },
   "outputs": [],
   "source": [
    "plan = Task(\n",
    "    description=(\n",
    "        \"1. Prioritize the latest trends, key players, \"\n",
    "            \"and noteworthy news on {topic}.\\n\"\n",
    "        \"2. Identify the target audience, considering \"\n",
    "            \"their interests and pain points.\\n\"\n",
    "        \"3. Develop a detailed content outline including \"\n",
    "            \"an introduction, key points, and a call to action.\\n\"\n",
    "        \"4. Include SEO keywords and relevant data or sources.\"\n",
    "    ),\n",
    "    expected_output=\"A comprehensive content plan document \"\n",
    "        \"with an outline, audience analysis, \"\n",
    "        \"SEO keywords, and resources.\",\n",
    "    agent=planner,\n",
    ")"
   ]
  },
  {
   "cell_type": "markdown",
   "metadata": {},
   "source": [
    "### Task: Write"
   ]
  },
  {
   "cell_type": "code",
   "execution_count": 8,
   "metadata": {
    "height": 319
   },
   "outputs": [],
   "source": [
    "write = Task(\n",
    "    description=(\n",
    "        \"1. Use the content plan to craft a compelling \"\n",
    "            \"blog post on {topic}.\\n\"\n",
    "        \"2. Incorporate SEO keywords naturally.\\n\"\n",
    "\t\t\"3. Sections/Subtitles are properly named \"\n",
    "            \"in an engaging manner.\\n\"\n",
    "        \"4. Ensure the post is structured with an \"\n",
    "            \"engaging introduction, insightful body, \"\n",
    "            \"and a summarizing conclusion.\\n\"\n",
    "        \"5. Proofread for grammatical errors and \"\n",
    "            \"alignment with the brand's voice.\\n\"\n",
    "    ),\n",
    "    expected_output=\"A well-written blog post \"\n",
    "        \"in markdown format, ready for publication, \"\n",
    "        \"each section should have 2 or 3 paragraphs.\",\n",
    "    agent=writer,\n",
    ")"
   ]
  },
  {
   "cell_type": "markdown",
   "metadata": {},
   "source": [
    "### Task: Edit"
   ]
  },
  {
   "cell_type": "code",
   "execution_count": 9,
   "metadata": {
    "height": 166
   },
   "outputs": [],
   "source": [
    "edit = Task(\n",
    "    description=(\"Proofread the given blog post for \"\n",
    "                 \"grammatical errors and \"\n",
    "                 \"alignment with the brand's voice.\"),\n",
    "    expected_output=\"A well-written blog post in markdown format, \"\n",
    "                    \"ready for publication, \"\n",
    "                    \"each section should have 2 or 3 paragraphs.\",\n",
    "    agent=editor\n",
    ")"
   ]
  },
  {
   "cell_type": "markdown",
   "metadata": {},
   "source": [
    "## Creating the Crew\n",
    "\n",
    "- Create your crew of Agents\n",
    "- Pass the tasks to be performed by those agents.\n",
    "    - **Note**: *For this simple example*, the tasks will be performed sequentially (i.e they are dependent on each other), so the _order_ of the task in the list _matters_.\n",
    "- `verbose=2` allows you to see all the logs of the execution. "
   ]
  },
  {
   "cell_type": "code",
   "execution_count": 10,
   "metadata": {
    "height": 98
   },
   "outputs": [],
   "source": [
    "crew = Crew(\n",
    "    agents=[planner, writer, editor],\n",
    "    tasks=[plan, write, edit],\n",
    "    verbose=2\n",
    ")"
   ]
  },
  {
   "cell_type": "markdown",
   "metadata": {},
   "source": [
    "## Running the Crew"
   ]
  },
  {
   "cell_type": "markdown",
   "metadata": {},
   "source": [
    "**Note**: LLMs can provide different outputs for they same input, so what you get might be different than what you see in the video."
   ]
  },
  {
   "cell_type": "code",
   "execution_count": 11,
   "metadata": {
    "height": 30
   },
   "outputs": [
    {
     "name": "stdout",
     "output_type": "stream",
     "text": [
      "\u001b[1m\u001b[95m [DEBUG]: == Working Agent: Content Planner\u001b[00m\n",
      "\u001b[1m\u001b[95m [INFO]: == Starting Task: 1. Prioritize the latest trends, key players, and noteworthy news on Artificial Intelligence.\n",
      "2. Identify the target audience, considering their interests and pain points.\n",
      "3. Develop a detailed content outline including an introduction, key points, and a call to action.\n",
      "4. Include SEO keywords and relevant data or sources.\u001b[00m\n",
      "\n",
      "\n",
      "\u001b[1m> Entering new CrewAgentExecutor chain...\u001b[0m\n",
      "\u001b[32;1m\u001b[1;3mI now can give a great answer\n",
      "\n",
      "Final Answer: \n",
      "\n",
      "Content Plan Document\n",
      "\n",
      "Title: The Latest Trends in Artificial Intelligence: A Comprehensive Guide\n",
      "\n",
      "Introduction:\n",
      "- Brief overview of Artificial Intelligence (AI) and its impact on various industries\n",
      "- Mention of key players in the AI field and their contributions\n",
      "\n",
      "Key Points:\n",
      "1. Latest Trends in AI:\n",
      "   - Natural Language Processing (NLP) advancements\n",
      "   - Computer vision technology developments\n",
      "   - AI-powered healthcare solutions\n",
      "   - Autonomous vehicles and robotics\n",
      "   - AI ethics and regulation updates\n",
      "\n",
      "2. Key Players in the AI Industry:\n",
      "   - Google DeepMind\n",
      "   - IBM Watson\n",
      "   - Amazon Web Services (AWS)\n",
      "   - Microsoft Azure\n",
      "   - OpenAI\n",
      "\n",
      "3. Noteworthy News in AI:\n",
      "   - Recent breakthroughs in AI research\n",
      "   - AI applications in finance, marketing, and cybersecurity\n",
      "   - AI startups to watch in 2021\n",
      "\n",
      "Audience Analysis:\n",
      "- Target Audience: Business professionals, tech enthusiasts, and students interested in AI\n",
      "- Interests: Staying updated on the latest AI trends, learning about AI applications in different industries, understanding the impact of AI on society\n",
      "- Pain Points: Keeping up with rapid advancements in AI, navigating ethical concerns surrounding AI technologies\n",
      "\n",
      "SEO Keywords:\n",
      "- Artificial Intelligence trends 2021\n",
      "- Key players in AI industry\n",
      "- AI news and updates\n",
      "- Impact of AI on businesses\n",
      "- AI technology advancements\n",
      "\n",
      "Resources:\n",
      "- Forbes: AI and Machine Learning Trends in 2021\n",
      "- TechCrunch: Latest News on Artificial Intelligence\n",
      "- McKinsey & Company: The State of AI in 2021 report\n",
      "\n",
      "Call to Action:\n",
      "- Encourage readers to stay informed about AI trends by subscribing to our newsletter\n",
      "- Invite them to engage in discussions on our social media platforms\n",
      "- Provide a link to a related AI resource or webinar for further learning\n",
      "\n",
      "By following this content plan, we aim to provide our audience with valuable insights and information on the latest trends, key players, and noteworthy news in the field of Artificial Intelligence.\u001b[0m\n",
      "\n",
      "\u001b[1m> Finished chain.\u001b[0m\n",
      "\u001b[1m\u001b[92m [DEBUG]: == [Content Planner] Task output: Content Plan Document\n",
      "\n",
      "Title: The Latest Trends in Artificial Intelligence: A Comprehensive Guide\n",
      "\n",
      "Introduction:\n",
      "- Brief overview of Artificial Intelligence (AI) and its impact on various industries\n",
      "- Mention of key players in the AI field and their contributions\n",
      "\n",
      "Key Points:\n",
      "1. Latest Trends in AI:\n",
      "   - Natural Language Processing (NLP) advancements\n",
      "   - Computer vision technology developments\n",
      "   - AI-powered healthcare solutions\n",
      "   - Autonomous vehicles and robotics\n",
      "   - AI ethics and regulation updates\n",
      "\n",
      "2. Key Players in the AI Industry:\n",
      "   - Google DeepMind\n",
      "   - IBM Watson\n",
      "   - Amazon Web Services (AWS)\n",
      "   - Microsoft Azure\n",
      "   - OpenAI\n",
      "\n",
      "3. Noteworthy News in AI:\n",
      "   - Recent breakthroughs in AI research\n",
      "   - AI applications in finance, marketing, and cybersecurity\n",
      "   - AI startups to watch in 2021\n",
      "\n",
      "Audience Analysis:\n",
      "- Target Audience: Business professionals, tech enthusiasts, and students interested in AI\n",
      "- Interests: Staying updated on the latest AI trends, learning about AI applications in different industries, understanding the impact of AI on society\n",
      "- Pain Points: Keeping up with rapid advancements in AI, navigating ethical concerns surrounding AI technologies\n",
      "\n",
      "SEO Keywords:\n",
      "- Artificial Intelligence trends 2021\n",
      "- Key players in AI industry\n",
      "- AI news and updates\n",
      "- Impact of AI on businesses\n",
      "- AI technology advancements\n",
      "\n",
      "Resources:\n",
      "- Forbes: AI and Machine Learning Trends in 2021\n",
      "- TechCrunch: Latest News on Artificial Intelligence\n",
      "- McKinsey & Company: The State of AI in 2021 report\n",
      "\n",
      "Call to Action:\n",
      "- Encourage readers to stay informed about AI trends by subscribing to our newsletter\n",
      "- Invite them to engage in discussions on our social media platforms\n",
      "- Provide a link to a related AI resource or webinar for further learning\n",
      "\n",
      "By following this content plan, we aim to provide our audience with valuable insights and information on the latest trends, key players, and noteworthy news in the field of Artificial Intelligence.\n",
      "\n",
      "\u001b[00m\n",
      "\u001b[1m\u001b[95m [DEBUG]: == Working Agent: Content Writer\u001b[00m\n",
      "\u001b[1m\u001b[95m [INFO]: == Starting Task: 1. Use the content plan to craft a compelling blog post on Artificial Intelligence.\n",
      "2. Incorporate SEO keywords naturally.\n",
      "3. Sections/Subtitles are properly named in an engaging manner.\n",
      "4. Ensure the post is structured with an engaging introduction, insightful body, and a summarizing conclusion.\n",
      "5. Proofread for grammatical errors and alignment with the brand's voice.\n",
      "\u001b[00m\n",
      "\n",
      "\n",
      "\u001b[1m> Entering new CrewAgentExecutor chain...\u001b[0m\n",
      "\u001b[32;1m\u001b[1;3mI now can give a great answer\n",
      "\n",
      "Final Answer:\n",
      "\n",
      "# The Latest Trends in Artificial Intelligence: A Comprehensive Guide\n",
      "\n",
      "**Introduction:**\n",
      "\n",
      "Artificial Intelligence (AI) has become a transformative force across various industries, revolutionizing the way businesses operate and enhancing everyday life. With advancements in machine learning and data analytics, AI technologies are reshaping the future of healthcare, finance, transportation, and more. Key players in the AI field, such as Google DeepMind, IBM Watson, and Amazon Web Services (AWS), are at the forefront of innovation, driving significant progress in AI research and development.\n",
      "\n",
      "**Latest Trends in AI:**\n",
      "\n",
      "In 2021, we are witnessing significant advancements in Natural Language Processing (NLP) technologies, enabling machines to understand and generate human language with unprecedented accuracy. This has opened up new possibilities in customer service automation, content generation, and sentiment analysis. Additionally, computer vision technology has made remarkable strides, with applications ranging from facial recognition to autonomous drones. AI-powered healthcare solutions are also gaining traction, with personalized treatment recommendations and predictive analytics improving patient outcomes.\n",
      "\n",
      "Autonomous vehicles and robotics are another key area of focus, with AI algorithms driving safer and more efficient transportation systems. The ethical implications of AI technologies are receiving increased attention, leading to updates in regulations and guidelines to ensure responsible AI deployment. As AI continues to evolve, staying informed about the latest trends and developments is crucial for businesses and individuals looking to leverage AI capabilities effectively.\n",
      "\n",
      "**Key Players in the AI Industry:**\n",
      "\n",
      "Google DeepMind, known for its AlphaGo program that defeated world champion Go players, continues to push the boundaries of AI research. IBM Watson's cognitive computing capabilities have been instrumental in healthcare diagnostics and business analytics. Amazon Web Services (AWS) and Microsoft Azure are leading providers of cloud-based AI services, offering scalable solutions for businesses of all sizes. OpenAI, founded by Elon Musk and Sam Altman, is focused on developing artificial general intelligence to benefit humanity.\n",
      "\n",
      "**Noteworthy News in AI:**\n",
      "\n",
      "Recent breakthroughs in AI research, such as GPT-3's language generation capabilities and reinforcement learning algorithms, are reshaping the AI landscape. AI applications in finance, marketing, and cybersecurity are enhancing decision-making processes and improving operational efficiency. AI startups are also making waves in 2021, with innovative solutions in areas like predictive analytics, natural language understanding, and computer vision.\n",
      "\n",
      "**Conclusion:**\n",
      "\n",
      "As AI technologies continue to advance, it is essential for business professionals, tech enthusiasts, and students to stay updated on the latest trends and key players in the industry. By following the developments in AI, understanding its impact on various sectors, and engaging in discussions on ethical considerations, we can harness the full potential of AI for positive change. Subscribe to our newsletter for more insights on AI trends and join our social media platforms to be part of the AI conversation. Let's embrace the future of AI together!\n",
      "\n",
      "*Stay informed, stay engaged, and explore the endless possibilities of Artificial Intelligence!*\u001b[0m\n",
      "\n",
      "\u001b[1m> Finished chain.\u001b[0m\n",
      "\u001b[1m\u001b[92m [DEBUG]: == [Content Writer] Task output: # The Latest Trends in Artificial Intelligence: A Comprehensive Guide\n",
      "\n",
      "**Introduction:**\n",
      "\n",
      "Artificial Intelligence (AI) has become a transformative force across various industries, revolutionizing the way businesses operate and enhancing everyday life. With advancements in machine learning and data analytics, AI technologies are reshaping the future of healthcare, finance, transportation, and more. Key players in the AI field, such as Google DeepMind, IBM Watson, and Amazon Web Services (AWS), are at the forefront of innovation, driving significant progress in AI research and development.\n",
      "\n",
      "**Latest Trends in AI:**\n",
      "\n",
      "In 2021, we are witnessing significant advancements in Natural Language Processing (NLP) technologies, enabling machines to understand and generate human language with unprecedented accuracy. This has opened up new possibilities in customer service automation, content generation, and sentiment analysis. Additionally, computer vision technology has made remarkable strides, with applications ranging from facial recognition to autonomous drones. AI-powered healthcare solutions are also gaining traction, with personalized treatment recommendations and predictive analytics improving patient outcomes.\n",
      "\n",
      "Autonomous vehicles and robotics are another key area of focus, with AI algorithms driving safer and more efficient transportation systems. The ethical implications of AI technologies are receiving increased attention, leading to updates in regulations and guidelines to ensure responsible AI deployment. As AI continues to evolve, staying informed about the latest trends and developments is crucial for businesses and individuals looking to leverage AI capabilities effectively.\n",
      "\n",
      "**Key Players in the AI Industry:**\n",
      "\n",
      "Google DeepMind, known for its AlphaGo program that defeated world champion Go players, continues to push the boundaries of AI research. IBM Watson's cognitive computing capabilities have been instrumental in healthcare diagnostics and business analytics. Amazon Web Services (AWS) and Microsoft Azure are leading providers of cloud-based AI services, offering scalable solutions for businesses of all sizes. OpenAI, founded by Elon Musk and Sam Altman, is focused on developing artificial general intelligence to benefit humanity.\n",
      "\n",
      "**Noteworthy News in AI:**\n",
      "\n",
      "Recent breakthroughs in AI research, such as GPT-3's language generation capabilities and reinforcement learning algorithms, are reshaping the AI landscape. AI applications in finance, marketing, and cybersecurity are enhancing decision-making processes and improving operational efficiency. AI startups are also making waves in 2021, with innovative solutions in areas like predictive analytics, natural language understanding, and computer vision.\n",
      "\n",
      "**Conclusion:**\n",
      "\n",
      "As AI technologies continue to advance, it is essential for business professionals, tech enthusiasts, and students to stay updated on the latest trends and key players in the industry. By following the developments in AI, understanding its impact on various sectors, and engaging in discussions on ethical considerations, we can harness the full potential of AI for positive change. Subscribe to our newsletter for more insights on AI trends and join our social media platforms to be part of the AI conversation. Let's embrace the future of AI together!\n",
      "\n",
      "*Stay informed, stay engaged, and explore the endless possibilities of Artificial Intelligence!*\n",
      "\n",
      "\u001b[00m\n",
      "\u001b[1m\u001b[95m [DEBUG]: == Working Agent: Editor\u001b[00m\n",
      "\u001b[1m\u001b[95m [INFO]: == Starting Task: Proofread the given blog post for grammatical errors and alignment with the brand's voice.\u001b[00m\n",
      "\n",
      "\n",
      "\u001b[1m> Entering new CrewAgentExecutor chain...\u001b[0m\n"
     ]
    },
    {
     "name": "stdout",
     "output_type": "stream",
     "text": [
      "\u001b[32;1m\u001b[1;3mI now can give a great answer\n",
      "\n",
      "Final Answer:\n",
      "\n",
      "# The Latest Trends in Artificial Intelligence: A Comprehensive Guide\n",
      "\n",
      "**Introduction:**\n",
      "\n",
      "Artificial Intelligence (AI) continues to revolutionize industries and everyday life with advancements in machine learning and data analytics. Companies like Google DeepMind, IBM Watson, and Amazon Web Services (AWS) are driving innovation in AI research and development, reshaping healthcare, finance, transportation, and more.\n",
      "\n",
      "**Latest Trends in AI:**\n",
      "\n",
      "In 2021, Natural Language Processing (NLP) technologies have seen significant advancements, enabling machines to understand and generate human language accurately. This has led to new opportunities in customer service automation, content generation, and sentiment analysis. Additionally, computer vision technology has made strides in applications such as facial recognition and autonomous drones. AI-powered healthcare solutions are also improving patient outcomes with personalized treatment recommendations and predictive analytics.\n",
      "\n",
      "Autonomous vehicles and robotics are key areas of focus, with AI algorithms enhancing transportation systems' safety and efficiency. The ethical implications of AI technologies are gaining attention, leading to updates in regulations to ensure responsible AI deployment. Staying informed about the latest trends in AI is crucial for businesses and individuals looking to leverage AI effectively.\n",
      "\n",
      "**Key Players in the AI Industry:**\n",
      "\n",
      "Google DeepMind, IBM Watson, Amazon Web Services (AWS), and Microsoft Azure are key players in the AI industry, driving innovation and offering scalable AI solutions. OpenAI, founded by Elon Musk and Sam Altman, focuses on developing artificial general intelligence for the benefit of humanity.\n",
      "\n",
      "**Noteworthy News in AI:**\n",
      "\n",
      "Recent breakthroughs in AI research, such as GPT-3's language generation capabilities and reinforcement learning algorithms, are reshaping the AI landscape. AI applications in finance, marketing, and cybersecurity are enhancing decision-making processes and operational efficiency. AI startups are also making waves with innovative solutions in predictive analytics, natural language understanding, and computer vision.\n",
      "\n",
      "**Conclusion:**\n",
      "\n",
      "As AI technologies advance, staying updated on the latest trends and key players in the industry is essential. By understanding AI's impact, engaging in discussions on ethical considerations, and following developments in the field, we can harness AI's potential for positive change. Subscribe to our newsletter for more insights on AI trends and join our social media platforms to be part of the AI conversation. Let's embrace the future of AI together and explore its endless possibilities!\n",
      "\n",
      "*Stay informed, stay engaged, and explore the endless possibilities of Artificial Intelligence!*\u001b[0m\n",
      "\n",
      "\u001b[1m> Finished chain.\u001b[0m\n",
      "\u001b[1m\u001b[92m [DEBUG]: == [Editor] Task output: # The Latest Trends in Artificial Intelligence: A Comprehensive Guide\n",
      "\n",
      "**Introduction:**\n",
      "\n",
      "Artificial Intelligence (AI) continues to revolutionize industries and everyday life with advancements in machine learning and data analytics. Companies like Google DeepMind, IBM Watson, and Amazon Web Services (AWS) are driving innovation in AI research and development, reshaping healthcare, finance, transportation, and more.\n",
      "\n",
      "**Latest Trends in AI:**\n",
      "\n",
      "In 2021, Natural Language Processing (NLP) technologies have seen significant advancements, enabling machines to understand and generate human language accurately. This has led to new opportunities in customer service automation, content generation, and sentiment analysis. Additionally, computer vision technology has made strides in applications such as facial recognition and autonomous drones. AI-powered healthcare solutions are also improving patient outcomes with personalized treatment recommendations and predictive analytics.\n",
      "\n",
      "Autonomous vehicles and robotics are key areas of focus, with AI algorithms enhancing transportation systems' safety and efficiency. The ethical implications of AI technologies are gaining attention, leading to updates in regulations to ensure responsible AI deployment. Staying informed about the latest trends in AI is crucial for businesses and individuals looking to leverage AI effectively.\n",
      "\n",
      "**Key Players in the AI Industry:**\n",
      "\n",
      "Google DeepMind, IBM Watson, Amazon Web Services (AWS), and Microsoft Azure are key players in the AI industry, driving innovation and offering scalable AI solutions. OpenAI, founded by Elon Musk and Sam Altman, focuses on developing artificial general intelligence for the benefit of humanity.\n",
      "\n",
      "**Noteworthy News in AI:**\n",
      "\n",
      "Recent breakthroughs in AI research, such as GPT-3's language generation capabilities and reinforcement learning algorithms, are reshaping the AI landscape. AI applications in finance, marketing, and cybersecurity are enhancing decision-making processes and operational efficiency. AI startups are also making waves with innovative solutions in predictive analytics, natural language understanding, and computer vision.\n",
      "\n",
      "**Conclusion:**\n",
      "\n",
      "As AI technologies advance, staying updated on the latest trends and key players in the industry is essential. By understanding AI's impact, engaging in discussions on ethical considerations, and following developments in the field, we can harness AI's potential for positive change. Subscribe to our newsletter for more insights on AI trends and join our social media platforms to be part of the AI conversation. Let's embrace the future of AI together and explore its endless possibilities!\n",
      "\n",
      "*Stay informed, stay engaged, and explore the endless possibilities of Artificial Intelligence!*\n",
      "\n",
      "\u001b[00m\n"
     ]
    }
   ],
   "source": [
    "result = crew.kickoff(inputs={\"topic\": \"Artificial Intelligence\"})"
   ]
  },
  {
   "cell_type": "markdown",
   "metadata": {},
   "source": [
    "- Display the results of your execution as markdown in the notebook."
   ]
  },
  {
   "cell_type": "code",
   "execution_count": 12,
   "metadata": {
    "height": 47
   },
   "outputs": [
    {
     "data": {
      "text/markdown": [
       "# The Latest Trends in Artificial Intelligence: A Comprehensive Guide\n",
       "\n",
       "**Introduction:**\n",
       "\n",
       "Artificial Intelligence (AI) continues to revolutionize industries and everyday life with advancements in machine learning and data analytics. Companies like Google DeepMind, IBM Watson, and Amazon Web Services (AWS) are driving innovation in AI research and development, reshaping healthcare, finance, transportation, and more.\n",
       "\n",
       "**Latest Trends in AI:**\n",
       "\n",
       "In 2021, Natural Language Processing (NLP) technologies have seen significant advancements, enabling machines to understand and generate human language accurately. This has led to new opportunities in customer service automation, content generation, and sentiment analysis. Additionally, computer vision technology has made strides in applications such as facial recognition and autonomous drones. AI-powered healthcare solutions are also improving patient outcomes with personalized treatment recommendations and predictive analytics.\n",
       "\n",
       "Autonomous vehicles and robotics are key areas of focus, with AI algorithms enhancing transportation systems' safety and efficiency. The ethical implications of AI technologies are gaining attention, leading to updates in regulations to ensure responsible AI deployment. Staying informed about the latest trends in AI is crucial for businesses and individuals looking to leverage AI effectively.\n",
       "\n",
       "**Key Players in the AI Industry:**\n",
       "\n",
       "Google DeepMind, IBM Watson, Amazon Web Services (AWS), and Microsoft Azure are key players in the AI industry, driving innovation and offering scalable AI solutions. OpenAI, founded by Elon Musk and Sam Altman, focuses on developing artificial general intelligence for the benefit of humanity.\n",
       "\n",
       "**Noteworthy News in AI:**\n",
       "\n",
       "Recent breakthroughs in AI research, such as GPT-3's language generation capabilities and reinforcement learning algorithms, are reshaping the AI landscape. AI applications in finance, marketing, and cybersecurity are enhancing decision-making processes and operational efficiency. AI startups are also making waves with innovative solutions in predictive analytics, natural language understanding, and computer vision.\n",
       "\n",
       "**Conclusion:**\n",
       "\n",
       "As AI technologies advance, staying updated on the latest trends and key players in the industry is essential. By understanding AI's impact, engaging in discussions on ethical considerations, and following developments in the field, we can harness AI's potential for positive change. Subscribe to our newsletter for more insights on AI trends and join our social media platforms to be part of the AI conversation. Let's embrace the future of AI together and explore its endless possibilities!\n",
       "\n",
       "*Stay informed, stay engaged, and explore the endless possibilities of Artificial Intelligence!*"
      ],
      "text/plain": [
       "<IPython.core.display.Markdown object>"
      ]
     },
     "execution_count": 12,
     "metadata": {},
     "output_type": "execute_result"
    }
   ],
   "source": [
    "from IPython.display import Markdown\n",
    "Markdown(result)"
   ]
  },
  {
   "cell_type": "markdown",
   "metadata": {},
   "source": [
    "## Try it Yourself\n",
    "\n",
    "- Pass in a topic of your choice and see what the agents come up with!"
   ]
  },
  {
   "cell_type": "code",
   "execution_count": 17,
   "metadata": {
    "height": 47
   },
   "outputs": [
    {
     "name": "stdout",
     "output_type": "stream",
     "text": [
      "\u001b[1m\u001b[95m [DEBUG]: == Working Agent: Content Planner\u001b[00m\n",
      "\u001b[1m\u001b[95m [INFO]: == Starting Task: 1. Prioritize the latest trends, key players, and noteworthy news on How does Computing Vision assess the quality of the creative work?.\n",
      "2. Identify the target audience, considering their interests and pain points.\n",
      "3. Develop a detailed content outline including an introduction, key points, and a call to action.\n",
      "4. Include SEO keywords and relevant data or sources.\u001b[00m\n",
      "\n",
      "\n",
      "\u001b[1m> Entering new CrewAgentExecutor chain...\u001b[0m\n",
      "\u001b[32;1m\u001b[1;3mI now can give a great answer\n",
      "\n",
      "Final Answer:\n",
      "Title: How does Computing Vision assess the quality of creative work?\n",
      "\n",
      "Introduction:\n",
      "- Definition of Computing Vision in the context of assessing creative work\n",
      "- Brief overview of the importance of using Computing Vision in evaluating creative work\n",
      "\n",
      "Key Points:\n",
      "1. Latest Trends:\n",
      "- Advancements in Computing Vision technology for assessing creative work\n",
      "- Integration of machine learning algorithms for more accurate evaluations\n",
      "- Use of deep learning techniques to analyze visual content\n",
      "\n",
      "2. Key Players:\n",
      "- Google Cloud Vision API\n",
      "- Amazon Rekognition\n",
      "- IBM Watson Visual Recognition\n",
      "- Microsoft Azure Computer Vision\n",
      "\n",
      "3. Noteworthy News:\n",
      "- Case studies of companies using Computing Vision for creative work assessment\n",
      "- Research findings on the effectiveness of Computing Vision in evaluating creative content\n",
      "- Updates on new features and improvements in Computing Vision technology\n",
      "\n",
      "Audience Analysis:\n",
      "Target Audience: \n",
      "- Creative professionals (designers, artists, photographers)\n",
      "- Marketing professionals\n",
      "- Technology enthusiasts\n",
      "\n",
      "Interests and Pain Points:\n",
      "- Interest in technology advancements in the creative industry\n",
      "- Desire for more efficient and accurate assessment tools for creative work\n",
      "- Pain points related to subjective evaluations and bias in the creative process\n",
      "\n",
      "Content Outline:\n",
      "I. Introduction\n",
      "- Definition of Computing Vision\n",
      "- Importance of using Computing Vision in creative work assessment\n",
      "\n",
      "II. Trends in Computing Vision for Creative Work Assessment\n",
      "- Advancements in technology\n",
      "- Integration of machine learning algorithms\n",
      "- Use of deep learning techniques\n",
      "\n",
      "III. Key Players in Computing Vision\n",
      "- Google Cloud Vision API\n",
      "- Amazon Rekognition\n",
      "- IBM Watson Visual Recognition\n",
      "- Microsoft Azure Computer Vision\n",
      "\n",
      "IV. Noteworthy News in Computing Vision\n",
      "- Case studies of companies using Computing Vision\n",
      "- Research findings on effectiveness\n",
      "- Updates on technology improvements\n",
      "\n",
      "V. Conclusion\n",
      "- Recap of key points\n",
      "- Call to action for further exploration of Computing Vision tools\n",
      "\n",
      "SEO Keywords:\n",
      "- Computing Vision\n",
      "- Creative work assessment\n",
      "- Machine learning algorithms\n",
      "- Deep learning techniques\n",
      "- Google Cloud Vision API\n",
      "- Amazon Rekognition\n",
      "- IBM Watson Visual Recognition\n",
      "- Microsoft Azure Computer Vision\n",
      "\n",
      "Resources:\n",
      "- Research papers on Computing Vision technology\n",
      "- Case studies of companies using Computing Vision for creative work assessment\n",
      "- Official websites of key players in Computing Vision technology\u001b[0m\n",
      "\n",
      "\u001b[1m> Finished chain.\u001b[0m\n",
      "\u001b[1m\u001b[92m [DEBUG]: == [Content Planner] Task output: Title: How does Computing Vision assess the quality of creative work?\n",
      "\n",
      "Introduction:\n",
      "- Definition of Computing Vision in the context of assessing creative work\n",
      "- Brief overview of the importance of using Computing Vision in evaluating creative work\n",
      "\n",
      "Key Points:\n",
      "1. Latest Trends:\n",
      "- Advancements in Computing Vision technology for assessing creative work\n",
      "- Integration of machine learning algorithms for more accurate evaluations\n",
      "- Use of deep learning techniques to analyze visual content\n",
      "\n",
      "2. Key Players:\n",
      "- Google Cloud Vision API\n",
      "- Amazon Rekognition\n",
      "- IBM Watson Visual Recognition\n",
      "- Microsoft Azure Computer Vision\n",
      "\n",
      "3. Noteworthy News:\n",
      "- Case studies of companies using Computing Vision for creative work assessment\n",
      "- Research findings on the effectiveness of Computing Vision in evaluating creative content\n",
      "- Updates on new features and improvements in Computing Vision technology\n",
      "\n",
      "Audience Analysis:\n",
      "Target Audience: \n",
      "- Creative professionals (designers, artists, photographers)\n",
      "- Marketing professionals\n",
      "- Technology enthusiasts\n",
      "\n",
      "Interests and Pain Points:\n",
      "- Interest in technology advancements in the creative industry\n",
      "- Desire for more efficient and accurate assessment tools for creative work\n",
      "- Pain points related to subjective evaluations and bias in the creative process\n",
      "\n",
      "Content Outline:\n",
      "I. Introduction\n",
      "- Definition of Computing Vision\n",
      "- Importance of using Computing Vision in creative work assessment\n",
      "\n",
      "II. Trends in Computing Vision for Creative Work Assessment\n",
      "- Advancements in technology\n",
      "- Integration of machine learning algorithms\n",
      "- Use of deep learning techniques\n",
      "\n",
      "III. Key Players in Computing Vision\n",
      "- Google Cloud Vision API\n",
      "- Amazon Rekognition\n",
      "- IBM Watson Visual Recognition\n",
      "- Microsoft Azure Computer Vision\n",
      "\n",
      "IV. Noteworthy News in Computing Vision\n",
      "- Case studies of companies using Computing Vision\n",
      "- Research findings on effectiveness\n",
      "- Updates on technology improvements\n",
      "\n",
      "V. Conclusion\n",
      "- Recap of key points\n",
      "- Call to action for further exploration of Computing Vision tools\n",
      "\n",
      "SEO Keywords:\n",
      "- Computing Vision\n",
      "- Creative work assessment\n",
      "- Machine learning algorithms\n",
      "- Deep learning techniques\n",
      "- Google Cloud Vision API\n",
      "- Amazon Rekognition\n",
      "- IBM Watson Visual Recognition\n",
      "- Microsoft Azure Computer Vision\n",
      "\n",
      "Resources:\n",
      "- Research papers on Computing Vision technology\n",
      "- Case studies of companies using Computing Vision for creative work assessment\n",
      "- Official websites of key players in Computing Vision technology\n",
      "\n",
      "\u001b[00m\n",
      "\u001b[1m\u001b[95m [DEBUG]: == Working Agent: Content Writer\u001b[00m\n",
      "\u001b[1m\u001b[95m [INFO]: == Starting Task: 1. Use the content plan to craft a compelling blog post on How does Computing Vision assess the quality of the creative work?.\n",
      "2. Incorporate SEO keywords naturally.\n",
      "3. Sections/Subtitles are properly named in an engaging manner.\n",
      "4. Ensure the post is structured with an engaging introduction, insightful body, and a summarizing conclusion.\n",
      "5. Proofread for grammatical errors and alignment with the brand's voice.\n",
      "\u001b[00m\n",
      "\n",
      "\n",
      "\u001b[1m> Entering new CrewAgentExecutor chain...\u001b[0m\n",
      "\u001b[32;1m\u001b[1;3mI now can give a great answer\n",
      "\n",
      "Final Answer:\n",
      "\n",
      "# How does Computing Vision Assess the Quality of Creative Work?\n",
      "\n",
      "## Introduction\n",
      "\n",
      "In the realm of assessing creative work, Computing Vision plays a crucial role in providing objective evaluations. Computing Vision refers to the field of computer science that focuses on enabling computers to interpret and understand the visual world. When applied to creative work assessment, Computing Vision utilizes advanced technology to analyze and evaluate visual content, providing insights and feedback based on data-driven algorithms rather than subjective opinions. This objective approach is essential in ensuring fair and accurate evaluations of creative work.\n",
      "\n",
      "## Trends in Computing Vision for Creative Work Assessment\n",
      "\n",
      "The latest trends in Computing Vision technology have seen significant advancements in the field. Machine learning algorithms are being integrated to enhance the accuracy of evaluations, allowing for more precise analysis of creative content. Additionally, deep learning techniques are being utilized to further improve the capabilities of Computing Vision systems in analyzing visual elements. These advancements have revolutionized the way creative work is assessed, providing a more efficient and reliable method for evaluating quality.\n",
      "\n",
      "## Key Players in Computing Vision\n",
      "\n",
      "Several key players in the Computing Vision landscape are leading the way in the development of technology for creative work assessment. Google Cloud Vision API, Amazon Rekognition, IBM Watson Visual Recognition, and Microsoft Azure Computer Vision are among the prominent platforms that offer sophisticated tools for analyzing visual content. These platforms leverage advanced algorithms and machine learning capabilities to provide comprehensive evaluations of creative work, catering to the needs of designers, artists, photographers, and marketing professionals.\n",
      "\n",
      "## Noteworthy News in Computing Vision\n",
      "\n",
      "Recent developments in Computing Vision have showcased the effectiveness of using this technology for creative work assessment. Case studies of companies utilizing Computing Vision for evaluation purposes have demonstrated the benefits of objective analysis in the creative process. Research findings have also highlighted the accuracy and efficiency of Computing Vision in evaluating visual content. Furthermore, ongoing updates and improvements in Computing Vision technology continue to enhance the capabilities of these systems, making them indispensable tools for creative professionals.\n",
      "\n",
      "## Conclusion\n",
      "\n",
      "In conclusion, Computing Vision offers a groundbreaking approach to assessing the quality of creative work. By leveraging advanced technology, machine learning algorithms, and deep learning techniques, Computing Vision provides objective evaluations that are free from subjective bias. As key players continue to innovate and improve their platforms, creative professionals can benefit from more efficient and accurate assessments of their work. For those looking to explore the possibilities of Computing Vision tools, there is a wealth of resources and opportunities available for further exploration and utilization.\n",
      "\n",
      "---\n",
      "This blog post provides a comprehensive overview of how Computing Vision assesses the quality of creative work, highlighting the importance of objective evaluations in the creative industry. By incorporating SEO keywords and structuring the content according to the provided outline, this piece is tailored to engage and inform the target audience of creative professionals, marketing professionals, and technology enthusiasts. With a focus on the latest trends, key players, and noteworthy news in Computing Vision, this blog post aims to educate and inspire readers to embrace the potential of advanced technology in their creative endeavors.\u001b[0m\n",
      "\n",
      "\u001b[1m> Finished chain.\u001b[0m\n",
      "\u001b[1m\u001b[92m [DEBUG]: == [Content Writer] Task output: # How does Computing Vision Assess the Quality of Creative Work?\n",
      "\n",
      "## Introduction\n",
      "\n",
      "In the realm of assessing creative work, Computing Vision plays a crucial role in providing objective evaluations. Computing Vision refers to the field of computer science that focuses on enabling computers to interpret and understand the visual world. When applied to creative work assessment, Computing Vision utilizes advanced technology to analyze and evaluate visual content, providing insights and feedback based on data-driven algorithms rather than subjective opinions. This objective approach is essential in ensuring fair and accurate evaluations of creative work.\n",
      "\n",
      "## Trends in Computing Vision for Creative Work Assessment\n",
      "\n",
      "The latest trends in Computing Vision technology have seen significant advancements in the field. Machine learning algorithms are being integrated to enhance the accuracy of evaluations, allowing for more precise analysis of creative content. Additionally, deep learning techniques are being utilized to further improve the capabilities of Computing Vision systems in analyzing visual elements. These advancements have revolutionized the way creative work is assessed, providing a more efficient and reliable method for evaluating quality.\n",
      "\n",
      "## Key Players in Computing Vision\n",
      "\n",
      "Several key players in the Computing Vision landscape are leading the way in the development of technology for creative work assessment. Google Cloud Vision API, Amazon Rekognition, IBM Watson Visual Recognition, and Microsoft Azure Computer Vision are among the prominent platforms that offer sophisticated tools for analyzing visual content. These platforms leverage advanced algorithms and machine learning capabilities to provide comprehensive evaluations of creative work, catering to the needs of designers, artists, photographers, and marketing professionals.\n",
      "\n",
      "## Noteworthy News in Computing Vision\n",
      "\n",
      "Recent developments in Computing Vision have showcased the effectiveness of using this technology for creative work assessment. Case studies of companies utilizing Computing Vision for evaluation purposes have demonstrated the benefits of objective analysis in the creative process. Research findings have also highlighted the accuracy and efficiency of Computing Vision in evaluating visual content. Furthermore, ongoing updates and improvements in Computing Vision technology continue to enhance the capabilities of these systems, making them indispensable tools for creative professionals.\n",
      "\n",
      "## Conclusion\n",
      "\n",
      "In conclusion, Computing Vision offers a groundbreaking approach to assessing the quality of creative work. By leveraging advanced technology, machine learning algorithms, and deep learning techniques, Computing Vision provides objective evaluations that are free from subjective bias. As key players continue to innovate and improve their platforms, creative professionals can benefit from more efficient and accurate assessments of their work. For those looking to explore the possibilities of Computing Vision tools, there is a wealth of resources and opportunities available for further exploration and utilization.\n",
      "\n",
      "---\n",
      "This blog post provides a comprehensive overview of how Computing Vision assesses the quality of creative work, highlighting the importance of objective evaluations in the creative industry. By incorporating SEO keywords and structuring the content according to the provided outline, this piece is tailored to engage and inform the target audience of creative professionals, marketing professionals, and technology enthusiasts. With a focus on the latest trends, key players, and noteworthy news in Computing Vision, this blog post aims to educate and inspire readers to embrace the potential of advanced technology in their creative endeavors.\n",
      "\n",
      "\u001b[00m\n",
      "\u001b[1m\u001b[95m [DEBUG]: == Working Agent: Editor\u001b[00m\n",
      "\u001b[1m\u001b[95m [INFO]: == Starting Task: Proofread the given blog post for grammatical errors and alignment with the brand's voice.\u001b[00m\n",
      "\n",
      "\n",
      "\u001b[1m> Entering new CrewAgentExecutor chain...\u001b[0m\n"
     ]
    },
    {
     "name": "stdout",
     "output_type": "stream",
     "text": [
      "\u001b[32;1m\u001b[1;3mI now can give a great answer\n",
      "\n",
      "Final Answer:\n",
      "# How does Computing Vision Assess the Quality of Creative Work?\n",
      "\n",
      "## Introduction\n",
      "\n",
      "In the realm of assessing creative work, Computing Vision plays a crucial role in providing objective evaluations. Computing Vision refers to the field of computer science that focuses on enabling computers to interpret and understand the visual world. When applied to creative work assessment, Computing Vision utilizes advanced technology to analyze and evaluate visual content, providing insights and feedback based on data-driven algorithms rather than subjective opinions. This objective approach is essential in ensuring fair and accurate evaluations of creative work.\n",
      "\n",
      "## Trends in Computing Vision for Creative Work Assessment\n",
      "\n",
      "The latest trends in Computing Vision technology have seen significant advancements in the field. Machine learning algorithms are being integrated to enhance the accuracy of evaluations, allowing for more precise analysis of creative content. Additionally, deep learning techniques are being utilized to further improve the capabilities of Computing Vision systems in analyzing visual elements. These advancements have revolutionized the way creative work is assessed, providing a more efficient and reliable method for evaluating quality.\n",
      "\n",
      "## Key Players in Computing Vision\n",
      "\n",
      "Several key players in the Computing Vision landscape are leading the way in the development of technology for creative work assessment. Google Cloud Vision API, Amazon Rekognition, IBM Watson Visual Recognition, and Microsoft Azure Computer Vision are among the prominent platforms that offer sophisticated tools for analyzing visual content. These platforms leverage advanced algorithms and machine learning capabilities to provide comprehensive evaluations of creative work, catering to the needs of designers, artists, photographers, and marketing professionals.\n",
      "\n",
      "## Noteworthy News in Computing Vision\n",
      "\n",
      "Recent developments in Computing Vision have showcased the effectiveness of using this technology for creative work assessment. Case studies of companies utilizing Computing Vision for evaluation purposes have demonstrated the benefits of objective analysis in the creative process. Research findings have also highlighted the accuracy and efficiency of Computing Vision in evaluating visual content. Furthermore, ongoing updates and improvements in Computing Vision technology continue to enhance the capabilities of these systems, making them indispensable tools for creative professionals.\n",
      "\n",
      "## Conclusion\n",
      "\n",
      "In conclusion, Computing Vision offers a groundbreaking approach to assessing the quality of creative work. By leveraging advanced technology, machine learning algorithms, and deep learning techniques, Computing Vision provides objective evaluations that are free from subjective bias. As key players continue to innovate and improve their platforms, creative professionals can benefit from more efficient and accurate assessments of their work. For those looking to explore the possibilities of Computing Vision tools, there is a wealth of resources and opportunities available for further exploration and utilization.\n",
      "\n",
      "---\n",
      "This blog post provides a comprehensive overview of how Computing Vision assesses the quality of creative work, highlighting the importance of objective evaluations in the creative industry. By incorporating SEO keywords and structuring the content according to the provided outline, this piece is tailored to engage and inform the target audience of creative professionals, marketing professionals, and technology enthusiasts. With a focus on the latest trends, key players, and noteworthy news in Computing Vision, this blog post aims to educate and inspire readers to embrace the potential of advanced technology in their creative endeavors.\u001b[0m\n",
      "\n",
      "\u001b[1m> Finished chain.\u001b[0m\n",
      "\u001b[1m\u001b[92m [DEBUG]: == [Editor] Task output: # How does Computing Vision Assess the Quality of Creative Work?\n",
      "\n",
      "## Introduction\n",
      "\n",
      "In the realm of assessing creative work, Computing Vision plays a crucial role in providing objective evaluations. Computing Vision refers to the field of computer science that focuses on enabling computers to interpret and understand the visual world. When applied to creative work assessment, Computing Vision utilizes advanced technology to analyze and evaluate visual content, providing insights and feedback based on data-driven algorithms rather than subjective opinions. This objective approach is essential in ensuring fair and accurate evaluations of creative work.\n",
      "\n",
      "## Trends in Computing Vision for Creative Work Assessment\n",
      "\n",
      "The latest trends in Computing Vision technology have seen significant advancements in the field. Machine learning algorithms are being integrated to enhance the accuracy of evaluations, allowing for more precise analysis of creative content. Additionally, deep learning techniques are being utilized to further improve the capabilities of Computing Vision systems in analyzing visual elements. These advancements have revolutionized the way creative work is assessed, providing a more efficient and reliable method for evaluating quality.\n",
      "\n",
      "## Key Players in Computing Vision\n",
      "\n",
      "Several key players in the Computing Vision landscape are leading the way in the development of technology for creative work assessment. Google Cloud Vision API, Amazon Rekognition, IBM Watson Visual Recognition, and Microsoft Azure Computer Vision are among the prominent platforms that offer sophisticated tools for analyzing visual content. These platforms leverage advanced algorithms and machine learning capabilities to provide comprehensive evaluations of creative work, catering to the needs of designers, artists, photographers, and marketing professionals.\n",
      "\n",
      "## Noteworthy News in Computing Vision\n",
      "\n",
      "Recent developments in Computing Vision have showcased the effectiveness of using this technology for creative work assessment. Case studies of companies utilizing Computing Vision for evaluation purposes have demonstrated the benefits of objective analysis in the creative process. Research findings have also highlighted the accuracy and efficiency of Computing Vision in evaluating visual content. Furthermore, ongoing updates and improvements in Computing Vision technology continue to enhance the capabilities of these systems, making them indispensable tools for creative professionals.\n",
      "\n",
      "## Conclusion\n",
      "\n",
      "In conclusion, Computing Vision offers a groundbreaking approach to assessing the quality of creative work. By leveraging advanced technology, machine learning algorithms, and deep learning techniques, Computing Vision provides objective evaluations that are free from subjective bias. As key players continue to innovate and improve their platforms, creative professionals can benefit from more efficient and accurate assessments of their work. For those looking to explore the possibilities of Computing Vision tools, there is a wealth of resources and opportunities available for further exploration and utilization.\n",
      "\n",
      "---\n",
      "This blog post provides a comprehensive overview of how Computing Vision assesses the quality of creative work, highlighting the importance of objective evaluations in the creative industry. By incorporating SEO keywords and structuring the content according to the provided outline, this piece is tailored to engage and inform the target audience of creative professionals, marketing professionals, and technology enthusiasts. With a focus on the latest trends, key players, and noteworthy news in Computing Vision, this blog post aims to educate and inspire readers to embrace the potential of advanced technology in their creative endeavors.\n",
      "\n",
      "\u001b[00m\n"
     ]
    }
   ],
   "source": [
    "topic = \"How does Computing Vision assess the quality of the creative work?\"\n",
    "result = crew.kickoff(inputs={\"topic\": topic})"
   ]
  },
  {
   "cell_type": "code",
   "execution_count": 18,
   "metadata": {
    "height": 30
   },
   "outputs": [
    {
     "data": {
      "text/markdown": [
       "# How does Computing Vision Assess the Quality of Creative Work?\n",
       "\n",
       "## Introduction\n",
       "\n",
       "In the realm of assessing creative work, Computing Vision plays a crucial role in providing objective evaluations. Computing Vision refers to the field of computer science that focuses on enabling computers to interpret and understand the visual world. When applied to creative work assessment, Computing Vision utilizes advanced technology to analyze and evaluate visual content, providing insights and feedback based on data-driven algorithms rather than subjective opinions. This objective approach is essential in ensuring fair and accurate evaluations of creative work.\n",
       "\n",
       "## Trends in Computing Vision for Creative Work Assessment\n",
       "\n",
       "The latest trends in Computing Vision technology have seen significant advancements in the field. Machine learning algorithms are being integrated to enhance the accuracy of evaluations, allowing for more precise analysis of creative content. Additionally, deep learning techniques are being utilized to further improve the capabilities of Computing Vision systems in analyzing visual elements. These advancements have revolutionized the way creative work is assessed, providing a more efficient and reliable method for evaluating quality.\n",
       "\n",
       "## Key Players in Computing Vision\n",
       "\n",
       "Several key players in the Computing Vision landscape are leading the way in the development of technology for creative work assessment. Google Cloud Vision API, Amazon Rekognition, IBM Watson Visual Recognition, and Microsoft Azure Computer Vision are among the prominent platforms that offer sophisticated tools for analyzing visual content. These platforms leverage advanced algorithms and machine learning capabilities to provide comprehensive evaluations of creative work, catering to the needs of designers, artists, photographers, and marketing professionals.\n",
       "\n",
       "## Noteworthy News in Computing Vision\n",
       "\n",
       "Recent developments in Computing Vision have showcased the effectiveness of using this technology for creative work assessment. Case studies of companies utilizing Computing Vision for evaluation purposes have demonstrated the benefits of objective analysis in the creative process. Research findings have also highlighted the accuracy and efficiency of Computing Vision in evaluating visual content. Furthermore, ongoing updates and improvements in Computing Vision technology continue to enhance the capabilities of these systems, making them indispensable tools for creative professionals.\n",
       "\n",
       "## Conclusion\n",
       "\n",
       "In conclusion, Computing Vision offers a groundbreaking approach to assessing the quality of creative work. By leveraging advanced technology, machine learning algorithms, and deep learning techniques, Computing Vision provides objective evaluations that are free from subjective bias. As key players continue to innovate and improve their platforms, creative professionals can benefit from more efficient and accurate assessments of their work. For those looking to explore the possibilities of Computing Vision tools, there is a wealth of resources and opportunities available for further exploration and utilization.\n",
       "\n",
       "---\n",
       "This blog post provides a comprehensive overview of how Computing Vision assesses the quality of creative work, highlighting the importance of objective evaluations in the creative industry. By incorporating SEO keywords and structuring the content according to the provided outline, this piece is tailored to engage and inform the target audience of creative professionals, marketing professionals, and technology enthusiasts. With a focus on the latest trends, key players, and noteworthy news in Computing Vision, this blog post aims to educate and inspire readers to embrace the potential of advanced technology in their creative endeavors."
      ],
      "text/plain": [
       "<IPython.core.display.Markdown object>"
      ]
     },
     "execution_count": 18,
     "metadata": {},
     "output_type": "execute_result"
    }
   ],
   "source": [
    "Markdown(result)"
   ]
  },
  {
   "cell_type": "markdown",
   "metadata": {},
   "source": [
    "<a name='1'></a>\n",
    " ## Other Popular Models as LLM for your Agents"
   ]
  },
  {
   "cell_type": "markdown",
   "metadata": {},
   "source": [
    "#### Hugging Face (HuggingFaceHub endpoint)\n",
    "\n",
    "```Python\n",
    "from langchain_community.llms import HuggingFaceHub\n",
    "\n",
    "llm = HuggingFaceHub(\n",
    "    repo_id=\"HuggingFaceH4/zephyr-7b-beta\",\n",
    "    huggingfacehub_api_token=\"<HF_TOKEN_HERE>\",\n",
    "    task=\"text-generation\",\n",
    ")\n",
    "\n",
    "### you will pass \"llm\" to your agent function\n",
    "```"
   ]
  },
  {
   "cell_type": "markdown",
   "metadata": {},
   "source": [
    "#### Mistral API\n",
    "\n",
    "```Python\n",
    "OPENAI_API_KEY=your-mistral-api-key\n",
    "OPENAI_API_BASE=https://api.mistral.ai/v1\n",
    "OPENAI_MODEL_NAME=\"mistral-small\"\n",
    "```"
   ]
  },
  {
   "cell_type": "markdown",
   "metadata": {},
   "source": [
    "#### Cohere\n",
    "\n",
    "```Python\n",
    "from langchain_community.chat_models import ChatCohere\n",
    "# Initialize language model\n",
    "os.environ[\"COHERE_API_KEY\"] = \"your-cohere-api-key\"\n",
    "llm = ChatCohere()\n",
    "\n",
    "### you will pass \"llm\" to your agent function\n",
    "```"
   ]
  },
  {
   "cell_type": "markdown",
   "metadata": {},
   "source": [
    "### For using Llama locally with Ollama and more, checkout the crewAI documentation on [Connecting to any LLM](https://docs.crewai.com/how-to/LLM-Connections/)."
   ]
  },
  {
   "cell_type": "code",
   "execution_count": null,
   "metadata": {
    "height": 30
   },
   "outputs": [],
   "source": []
  }
 ],
 "metadata": {
  "colab": {
   "gpuType": "T4",
   "provenance": []
  },
  "kernelspec": {
   "display_name": "Python 3 (ipykernel)",
   "language": "python",
   "name": "python3"
  },
  "language_info": {
   "codemirror_mode": {
    "name": "ipython",
    "version": 3
   },
   "file_extension": ".py",
   "mimetype": "text/x-python",
   "name": "python",
   "nbconvert_exporter": "python",
   "pygments_lexer": "ipython3",
   "version": "3.11.9"
  }
 },
 "nbformat": 4,
 "nbformat_minor": 4
}
